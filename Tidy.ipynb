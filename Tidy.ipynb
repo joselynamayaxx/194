{
 "cells": [
  {
   "cell_type": "markdown",
   "id": "e62cd0a1",
   "metadata": {
    "id": "e62cd0a1"
   },
   "source": [
    "# Week 2 : Tidy Data, Handling DateTime and Forecasting"
   ]
  },
  {
   "cell_type": "code",
   "execution_count": 80,
   "id": "e693575d",
   "metadata": {
    "id": "e693575d"
   },
   "outputs": [],
   "source": [
    "# This piece of code enables display of multiple output from one cell.\n",
    "from IPython.core.interactiveshell import InteractiveShell\n",
    "InteractiveShell.ast_node_interactivity = 'all'"
   ]
  },
  {
   "cell_type": "markdown",
   "id": "8817de25",
   "metadata": {
    "id": "8817de25"
   },
   "source": [
    "## Data Description\n",
    "\n",
    "This tutorial uses air quality data Nitrogen Dioxide (NO2) and Particulate matter less than 2.5 micrometers, made available by openaq and using the py-openaq package. The air_quality_long.csv data set provides  and  values for the measurement stations FR04014, BETR801 and London Westminster in respectively Paris, Antwerp and London.\n",
    "\n",
    "The air-quality data set has the following columns:\n",
    "\n",
    "city: city where the sensor is used, either Paris, Antwerp or London\n",
    "\n",
    "country: country where the sensor is used, either FR, BE or GB\n",
    "\n",
    "location: the id of the sensor, either FR04014, BETR801 or London Westminster\n",
    "\n",
    "parameter: the parameter measured by the sensor, either  or Particulate matter\n",
    "\n",
    "value: the measured value\n",
    "\n",
    "unit: the unit of the measured parameter, in this case ‘µg/m³’\n",
    "\n",
    "and the index of the DataFrame is datetime, the datetime of the measurement.\n",
    "\n",
    "For more data visit: [EPA.gov](https://www.epa.gov/outdoor-air-quality-data/air-data-basic-information)"
   ]
  },
  {
   "cell_type": "markdown",
   "id": "160674b7",
   "metadata": {
    "id": "160674b7"
   },
   "source": [
    "#### Task 1: Import necessary libraries"
   ]
  },
  {
   "cell_type": "code",
   "execution_count": 81,
   "id": "94455027",
   "metadata": {
    "id": "94455027"
   },
   "outputs": [],
   "source": [
    "import pandas as pd"
   ]
  },
  {
   "cell_type": "markdown",
   "id": "05a645fb",
   "metadata": {
    "id": "05a645fb"
   },
   "source": [
    "#### Task 2: Import Data and quick checks"
   ]
  },
  {
   "cell_type": "code",
   "execution_count": 82,
   "id": "Z9FiETQL5H_k",
   "metadata": {
    "colab": {
     "base_uri": "https://localhost:8080/"
    },
    "id": "Z9FiETQL5H_k",
    "outputId": "255707c2-e945-466f-95f2-7218478669a3"
   },
   "outputs": [
    {
     "data": {
      "text/plain": [
       "city          object\n",
       "country       object\n",
       "date.utc      object\n",
       "location      object\n",
       "parameter     object\n",
       "value        float64\n",
       "unit          object\n",
       "dtype: object"
      ]
     },
     "execution_count": 82,
     "metadata": {},
     "output_type": "execute_result"
    }
   ],
   "source": [
    "airq = pd.read_csv ('air_quality_long.csv')\n",
    "airq.dtypes"
   ]
  },
  {
   "cell_type": "code",
   "execution_count": 83,
   "id": "GJkq9I8k6R7l",
   "metadata": {
    "colab": {
     "base_uri": "https://localhost:8080/",
     "height": 206
    },
    "id": "GJkq9I8k6R7l",
    "outputId": "d0ab1b5d-d288-43aa-d9ab-225d33c33c94",
    "scrolled": true
   },
   "outputs": [
    {
     "data": {
      "text/html": [
       "<div>\n",
       "<style scoped>\n",
       "    .dataframe tbody tr th:only-of-type {\n",
       "        vertical-align: middle;\n",
       "    }\n",
       "\n",
       "    .dataframe tbody tr th {\n",
       "        vertical-align: top;\n",
       "    }\n",
       "\n",
       "    .dataframe thead th {\n",
       "        text-align: right;\n",
       "    }\n",
       "</style>\n",
       "<table border=\"1\" class=\"dataframe\">\n",
       "  <thead>\n",
       "    <tr style=\"text-align: right;\">\n",
       "      <th></th>\n",
       "      <th>city</th>\n",
       "      <th>country</th>\n",
       "      <th>date.utc</th>\n",
       "      <th>location</th>\n",
       "      <th>parameter</th>\n",
       "      <th>value</th>\n",
       "      <th>unit</th>\n",
       "    </tr>\n",
       "  </thead>\n",
       "  <tbody>\n",
       "    <tr>\n",
       "      <th>0</th>\n",
       "      <td>Antwerpen</td>\n",
       "      <td>BE</td>\n",
       "      <td>2019-06-18 06:00:00+00:00</td>\n",
       "      <td>BETR801</td>\n",
       "      <td>pm25</td>\n",
       "      <td>18.0</td>\n",
       "      <td>µg/m³</td>\n",
       "    </tr>\n",
       "    <tr>\n",
       "      <th>1</th>\n",
       "      <td>Antwerpen</td>\n",
       "      <td>BE</td>\n",
       "      <td>2019-06-17 08:00:00+00:00</td>\n",
       "      <td>BETR801</td>\n",
       "      <td>pm25</td>\n",
       "      <td>6.5</td>\n",
       "      <td>µg/m³</td>\n",
       "    </tr>\n",
       "    <tr>\n",
       "      <th>2</th>\n",
       "      <td>Antwerpen</td>\n",
       "      <td>BE</td>\n",
       "      <td>2019-06-17 07:00:00+00:00</td>\n",
       "      <td>BETR801</td>\n",
       "      <td>pm25</td>\n",
       "      <td>18.5</td>\n",
       "      <td>µg/m³</td>\n",
       "    </tr>\n",
       "    <tr>\n",
       "      <th>3</th>\n",
       "      <td>Antwerpen</td>\n",
       "      <td>BE</td>\n",
       "      <td>2019-06-17 06:00:00+00:00</td>\n",
       "      <td>BETR801</td>\n",
       "      <td>pm25</td>\n",
       "      <td>16.0</td>\n",
       "      <td>µg/m³</td>\n",
       "    </tr>\n",
       "    <tr>\n",
       "      <th>4</th>\n",
       "      <td>Antwerpen</td>\n",
       "      <td>BE</td>\n",
       "      <td>2019-06-17 05:00:00+00:00</td>\n",
       "      <td>BETR801</td>\n",
       "      <td>pm25</td>\n",
       "      <td>7.5</td>\n",
       "      <td>µg/m³</td>\n",
       "    </tr>\n",
       "  </tbody>\n",
       "</table>\n",
       "</div>"
      ],
      "text/plain": [
       "        city country                   date.utc location parameter  value  \\\n",
       "0  Antwerpen      BE  2019-06-18 06:00:00+00:00  BETR801      pm25   18.0   \n",
       "1  Antwerpen      BE  2019-06-17 08:00:00+00:00  BETR801      pm25    6.5   \n",
       "2  Antwerpen      BE  2019-06-17 07:00:00+00:00  BETR801      pm25   18.5   \n",
       "3  Antwerpen      BE  2019-06-17 06:00:00+00:00  BETR801      pm25   16.0   \n",
       "4  Antwerpen      BE  2019-06-17 05:00:00+00:00  BETR801      pm25    7.5   \n",
       "\n",
       "    unit  \n",
       "0  µg/m³  \n",
       "1  µg/m³  \n",
       "2  µg/m³  \n",
       "3  µg/m³  \n",
       "4  µg/m³  "
      ]
     },
     "execution_count": 83,
     "metadata": {},
     "output_type": "execute_result"
    }
   ],
   "source": [
    "airq.head()"
   ]
  },
  {
   "cell_type": "code",
   "execution_count": 84,
   "id": "e5bd4ffc",
   "metadata": {},
   "outputs": [
    {
     "data": {
      "text/plain": [
       "London       0.617602\n",
       "Paris        0.317906\n",
       "Antwerpen    0.064492\n",
       "Name: city, dtype: float64"
      ]
     },
     "execution_count": 84,
     "metadata": {},
     "output_type": "execute_result"
    },
    {
     "data": {
      "text/plain": [
       "GB    3256\n",
       "FR    1676\n",
       "BE     340\n",
       "Name: country, dtype: int64"
      ]
     },
     "execution_count": 84,
     "metadata": {},
     "output_type": "execute_result"
    },
    {
     "data": {
      "text/plain": [
       "London Westminster    3256\n",
       "FR04014               1676\n",
       "BETR801                340\n",
       "Name: location, dtype: int64"
      ]
     },
     "execution_count": 84,
     "metadata": {},
     "output_type": "execute_result"
    },
    {
     "data": {
      "text/plain": [
       "no2     3447\n",
       "pm25    1825\n",
       "Name: parameter, dtype: int64"
      ]
     },
     "execution_count": 84,
     "metadata": {},
     "output_type": "execute_result"
    },
    {
     "data": {
      "text/plain": [
       "µg/m³    5272\n",
       "Name: unit, dtype: int64"
      ]
     },
     "execution_count": 84,
     "metadata": {},
     "output_type": "execute_result"
    }
   ],
   "source": [
    "airq[\"city\"].value_counts(normalize=True)\n",
    "airq[\"country\"].value_counts()\n",
    "airq[\"location\"].value_counts()\n",
    "airq[\"parameter\"].value_counts()\n",
    "airq[\"unit\"].value_counts()"
   ]
  },
  {
   "cell_type": "code",
   "execution_count": 85,
   "id": "e8KBI5uH6T9p",
   "metadata": {
    "colab": {
     "base_uri": "https://localhost:8080/"
    },
    "id": "e8KBI5uH6T9p",
    "outputId": "62d5a4f0-f7a7-499a-9c1b-c293bd5519b9"
   },
   "outputs": [
    {
     "data": {
      "text/plain": [
       "country  city       location          \n",
       "GB       London     London Westminster    3256\n",
       "FR       Paris      FR04014               1676\n",
       "BE       Antwerpen  BETR801                340\n",
       "dtype: int64"
      ]
     },
     "execution_count": 85,
     "metadata": {},
     "output_type": "execute_result"
    }
   ],
   "source": [
    "airq[[\"country\", \"city\", \"location\"]].value_counts()"
   ]
  },
  {
   "cell_type": "markdown",
   "id": "aa2d8247",
   "metadata": {
    "id": "aa2d8247"
   },
   "source": [
    "## Pivot and Melt\n",
    "\n",
    "####  Task 3: Create a dataset with each row has a unique date and each column is a parameter value for a particular location (long --> wide)\n",
    "\n",
    "#### Task 4: Get the dataset created in task 1 in the long format."
   ]
  },
  {
   "cell_type": "code",
   "execution_count": 86,
   "id": "2d047154",
   "metadata": {
    "id": "2d047154"
   },
   "outputs": [],
   "source": [
    "no2 = airq[airq[\"parameter\"]== \"no2\"]\n",
    "no2_pivot = no2.pivot (index = \"date.utc\", columns= \"location\", values= \"value\")"
   ]
  },
  {
   "cell_type": "code",
   "execution_count": 87,
   "id": "ImhEik7P7TtI",
   "metadata": {
    "colab": {
     "base_uri": "https://localhost:8080/",
     "height": 237
    },
    "id": "ImhEik7P7TtI",
    "outputId": "224c3cb7-450c-4d06-ee8c-96fdbbff4123"
   },
   "outputs": [
    {
     "data": {
      "text/html": [
       "<div>\n",
       "<style scoped>\n",
       "    .dataframe tbody tr th:only-of-type {\n",
       "        vertical-align: middle;\n",
       "    }\n",
       "\n",
       "    .dataframe tbody tr th {\n",
       "        vertical-align: top;\n",
       "    }\n",
       "\n",
       "    .dataframe thead th {\n",
       "        text-align: right;\n",
       "    }\n",
       "</style>\n",
       "<table border=\"1\" class=\"dataframe\">\n",
       "  <thead>\n",
       "    <tr style=\"text-align: right;\">\n",
       "      <th>location</th>\n",
       "      <th>BETR801</th>\n",
       "      <th>FR04014</th>\n",
       "      <th>London Westminster</th>\n",
       "    </tr>\n",
       "    <tr>\n",
       "      <th>date.utc</th>\n",
       "      <th></th>\n",
       "      <th></th>\n",
       "      <th></th>\n",
       "    </tr>\n",
       "  </thead>\n",
       "  <tbody>\n",
       "    <tr>\n",
       "      <th>2019-04-09 01:00:00+00:00</th>\n",
       "      <td>22.5</td>\n",
       "      <td>24.4</td>\n",
       "      <td>NaN</td>\n",
       "    </tr>\n",
       "    <tr>\n",
       "      <th>2019-04-09 02:00:00+00:00</th>\n",
       "      <td>53.5</td>\n",
       "      <td>27.4</td>\n",
       "      <td>67.0</td>\n",
       "    </tr>\n",
       "    <tr>\n",
       "      <th>2019-04-09 03:00:00+00:00</th>\n",
       "      <td>54.5</td>\n",
       "      <td>34.2</td>\n",
       "      <td>67.0</td>\n",
       "    </tr>\n",
       "    <tr>\n",
       "      <th>2019-04-09 04:00:00+00:00</th>\n",
       "      <td>34.5</td>\n",
       "      <td>48.5</td>\n",
       "      <td>41.0</td>\n",
       "    </tr>\n",
       "    <tr>\n",
       "      <th>2019-04-09 05:00:00+00:00</th>\n",
       "      <td>46.5</td>\n",
       "      <td>59.5</td>\n",
       "      <td>41.0</td>\n",
       "    </tr>\n",
       "  </tbody>\n",
       "</table>\n",
       "</div>"
      ],
      "text/plain": [
       "location                   BETR801  FR04014  London Westminster\n",
       "date.utc                                                       \n",
       "2019-04-09 01:00:00+00:00     22.5     24.4                 NaN\n",
       "2019-04-09 02:00:00+00:00     53.5     27.4                67.0\n",
       "2019-04-09 03:00:00+00:00     54.5     34.2                67.0\n",
       "2019-04-09 04:00:00+00:00     34.5     48.5                41.0\n",
       "2019-04-09 05:00:00+00:00     46.5     59.5                41.0"
      ]
     },
     "execution_count": 87,
     "metadata": {},
     "output_type": "execute_result"
    }
   ],
   "source": [
    "no2_pivot.head()"
   ]
  },
  {
   "cell_type": "code",
   "execution_count": 88,
   "id": "LUh8m-hq7Wq9",
   "metadata": {
    "colab": {
     "base_uri": "https://localhost:8080/",
     "height": 296
    },
    "id": "LUh8m-hq7Wq9",
    "outputId": "92fddab8-02f3-46ae-b380-8f06651eb266"
   },
   "outputs": [
    {
     "data": {
      "text/plain": [
       "<AxesSubplot:xlabel='date.utc'>"
      ]
     },
     "execution_count": 88,
     "metadata": {},
     "output_type": "execute_result"
    },
    {
     "data": {
      "image/png": "[encoded data removed]",
      "text/plain": [
       "<Figure size 432x288 with 1 Axes>"
      ]
     },
     "metadata": {
      "needs_background": "light"
     },
     "output_type": "display_data"
    }
   ],
   "source": [
    "no2_pivot.plot()"
   ]
  },
  {
   "cell_type": "code",
   "execution_count": 89,
   "id": "buyX5DLu7mbh",
   "metadata": {
    "colab": {
     "base_uri": "https://localhost:8080/"
    },
    "id": "buyX5DLu7mbh",
    "outputId": "d7365b60-6bfa-4cb8-d754-4b0376269657"
   },
   "outputs": [
    {
     "data": {
      "text/plain": [
       "location\n",
       "BETR801               float64\n",
       "FR04014               float64\n",
       "London Westminster    float64\n",
       "dtype: object"
      ]
     },
     "execution_count": 89,
     "metadata": {},
     "output_type": "execute_result"
    }
   ],
   "source": [
    "no2_pivot.dtypes"
   ]
  },
  {
   "cell_type": "code",
   "execution_count": 90,
   "id": "S2Md0_Am7w8X",
   "metadata": {
    "colab": {
     "base_uri": "https://localhost:8080/",
     "height": 206
    },
    "id": "S2Md0_Am7w8X",
    "outputId": "ce8d84d1-329e-40dd-e8ed-d7dbc4130d78"
   },
   "outputs": [
    {
     "data": {
      "text/html": [
       "<div>\n",
       "<style scoped>\n",
       "    .dataframe tbody tr th:only-of-type {\n",
       "        vertical-align: middle;\n",
       "    }\n",
       "\n",
       "    .dataframe tbody tr th {\n",
       "        vertical-align: top;\n",
       "    }\n",
       "\n",
       "    .dataframe thead th {\n",
       "        text-align: right;\n",
       "    }\n",
       "</style>\n",
       "<table border=\"1\" class=\"dataframe\">\n",
       "  <thead>\n",
       "    <tr style=\"text-align: right;\">\n",
       "      <th></th>\n",
       "      <th>date.utc</th>\n",
       "      <th>location</th>\n",
       "      <th>value</th>\n",
       "    </tr>\n",
       "  </thead>\n",
       "  <tbody>\n",
       "    <tr>\n",
       "      <th>0</th>\n",
       "      <td>2019-04-09 01:00:00+00:00</td>\n",
       "      <td>BETR801</td>\n",
       "      <td>22.5</td>\n",
       "    </tr>\n",
       "    <tr>\n",
       "      <th>1</th>\n",
       "      <td>2019-04-09 02:00:00+00:00</td>\n",
       "      <td>BETR801</td>\n",
       "      <td>53.5</td>\n",
       "    </tr>\n",
       "    <tr>\n",
       "      <th>2</th>\n",
       "      <td>2019-04-09 03:00:00+00:00</td>\n",
       "      <td>BETR801</td>\n",
       "      <td>54.5</td>\n",
       "    </tr>\n",
       "    <tr>\n",
       "      <th>3</th>\n",
       "      <td>2019-04-09 04:00:00+00:00</td>\n",
       "      <td>BETR801</td>\n",
       "      <td>34.5</td>\n",
       "    </tr>\n",
       "    <tr>\n",
       "      <th>4</th>\n",
       "      <td>2019-04-09 05:00:00+00:00</td>\n",
       "      <td>BETR801</td>\n",
       "      <td>46.5</td>\n",
       "    </tr>\n",
       "  </tbody>\n",
       "</table>\n",
       "</div>"
      ],
      "text/plain": [
       "                    date.utc location  value\n",
       "0  2019-04-09 01:00:00+00:00  BETR801   22.5\n",
       "1  2019-04-09 02:00:00+00:00  BETR801   53.5\n",
       "2  2019-04-09 03:00:00+00:00  BETR801   54.5\n",
       "3  2019-04-09 04:00:00+00:00  BETR801   34.5\n",
       "4  2019-04-09 05:00:00+00:00  BETR801   46.5"
      ]
     },
     "execution_count": 90,
     "metadata": {},
     "output_type": "execute_result"
    }
   ],
   "source": [
    "no2_pivot = no2_pivot.reset_index()\n",
    "no2_long = no2_pivot.melt (id_vars= \"date.utc\")\n",
    "no2_long.head()"
   ]
  },
  {
   "cell_type": "code",
   "execution_count": 91,
   "id": "OX0iBLuq76O2",
   "metadata": {
    "colab": {
     "base_uri": "https://localhost:8080/"
    },
    "id": "OX0iBLuq76O2",
    "outputId": "6838f0b5-472c-4670-fe37-18c45bd9a4b8"
   },
   "outputs": [
    {
     "data": {
      "text/plain": [
       "location\n",
       "date.utc               object\n",
       "BETR801               float64\n",
       "FR04014               float64\n",
       "London Westminster    float64\n",
       "dtype: object"
      ]
     },
     "execution_count": 91,
     "metadata": {},
     "output_type": "execute_result"
    }
   ],
   "source": [
    "no2_pivot.dtypes"
   ]
  },
  {
   "cell_type": "markdown",
   "id": "34704fd0",
   "metadata": {
    "id": "34704fd0"
   },
   "source": [
    "## Tidy Data \n",
    "####  Task 5: Create a dataset with only BE values and get it in tidy format to analyze relationship between no2 and pm25"
   ]
  },
  {
   "cell_type": "code",
   "execution_count": 92,
   "id": "e55e0e33",
   "metadata": {
    "colab": {
     "base_uri": "https://localhost:8080/",
     "height": 206
    },
    "id": "e55e0e33",
    "outputId": "742f2ef2-3e22-4004-e8fe-110c0f1f0e67",
    "scrolled": true
   },
   "outputs": [
    {
     "data": {
      "text/html": [
       "<div>\n",
       "<style scoped>\n",
       "    .dataframe tbody tr th:only-of-type {\n",
       "        vertical-align: middle;\n",
       "    }\n",
       "\n",
       "    .dataframe tbody tr th {\n",
       "        vertical-align: top;\n",
       "    }\n",
       "\n",
       "    .dataframe thead th {\n",
       "        text-align: right;\n",
       "    }\n",
       "</style>\n",
       "<table border=\"1\" class=\"dataframe\">\n",
       "  <thead>\n",
       "    <tr style=\"text-align: right;\">\n",
       "      <th></th>\n",
       "      <th>city</th>\n",
       "      <th>country</th>\n",
       "      <th>date.utc</th>\n",
       "      <th>location</th>\n",
       "      <th>parameter</th>\n",
       "      <th>value</th>\n",
       "      <th>unit</th>\n",
       "    </tr>\n",
       "  </thead>\n",
       "  <tbody>\n",
       "    <tr>\n",
       "      <th>0</th>\n",
       "      <td>Antwerpen</td>\n",
       "      <td>BE</td>\n",
       "      <td>2019-06-18 06:00:00+00:00</td>\n",
       "      <td>BETR801</td>\n",
       "      <td>pm25</td>\n",
       "      <td>18.0</td>\n",
       "      <td>µg/m³</td>\n",
       "    </tr>\n",
       "    <tr>\n",
       "      <th>1</th>\n",
       "      <td>Antwerpen</td>\n",
       "      <td>BE</td>\n",
       "      <td>2019-06-17 08:00:00+00:00</td>\n",
       "      <td>BETR801</td>\n",
       "      <td>pm25</td>\n",
       "      <td>6.5</td>\n",
       "      <td>µg/m³</td>\n",
       "    </tr>\n",
       "    <tr>\n",
       "      <th>2</th>\n",
       "      <td>Antwerpen</td>\n",
       "      <td>BE</td>\n",
       "      <td>2019-06-17 07:00:00+00:00</td>\n",
       "      <td>BETR801</td>\n",
       "      <td>pm25</td>\n",
       "      <td>18.5</td>\n",
       "      <td>µg/m³</td>\n",
       "    </tr>\n",
       "    <tr>\n",
       "      <th>3</th>\n",
       "      <td>Antwerpen</td>\n",
       "      <td>BE</td>\n",
       "      <td>2019-06-17 06:00:00+00:00</td>\n",
       "      <td>BETR801</td>\n",
       "      <td>pm25</td>\n",
       "      <td>16.0</td>\n",
       "      <td>µg/m³</td>\n",
       "    </tr>\n",
       "    <tr>\n",
       "      <th>4</th>\n",
       "      <td>Antwerpen</td>\n",
       "      <td>BE</td>\n",
       "      <td>2019-06-17 05:00:00+00:00</td>\n",
       "      <td>BETR801</td>\n",
       "      <td>pm25</td>\n",
       "      <td>7.5</td>\n",
       "      <td>µg/m³</td>\n",
       "    </tr>\n",
       "  </tbody>\n",
       "</table>\n",
       "</div>"
      ],
      "text/plain": [
       "        city country                   date.utc location parameter  value  \\\n",
       "0  Antwerpen      BE  2019-06-18 06:00:00+00:00  BETR801      pm25   18.0   \n",
       "1  Antwerpen      BE  2019-06-17 08:00:00+00:00  BETR801      pm25    6.5   \n",
       "2  Antwerpen      BE  2019-06-17 07:00:00+00:00  BETR801      pm25   18.5   \n",
       "3  Antwerpen      BE  2019-06-17 06:00:00+00:00  BETR801      pm25   16.0   \n",
       "4  Antwerpen      BE  2019-06-17 05:00:00+00:00  BETR801      pm25    7.5   \n",
       "\n",
       "    unit  \n",
       "0  µg/m³  \n",
       "1  µg/m³  \n",
       "2  µg/m³  \n",
       "3  µg/m³  \n",
       "4  µg/m³  "
      ]
     },
     "execution_count": 92,
     "metadata": {},
     "output_type": "execute_result"
    }
   ],
   "source": [
    "BE_data= airq[airq[\"country\"]==\"BE\"]\n",
    "BE_data.head()"
   ]
  },
  {
   "cell_type": "markdown",
   "id": "0j4tTDpOxhbz",
   "metadata": {
    "id": "0j4tTDpOxhbz"
   },
   "source": [
    "Pulling information specific only to Belgium (BE)"
   ]
  },
  {
   "cell_type": "code",
   "execution_count": 93,
   "id": "ai1DxEGC9BlK",
   "metadata": {
    "colab": {
     "base_uri": "https://localhost:8080/",
     "height": 237
    },
    "id": "ai1DxEGC9BlK",
    "outputId": "2aafcafa-3db9-4966-d3be-d30d6e877d0f"
   },
   "outputs": [
    {
     "data": {
      "text/html": [
       "<div>\n",
       "<style scoped>\n",
       "    .dataframe tbody tr th:only-of-type {\n",
       "        vertical-align: middle;\n",
       "    }\n",
       "\n",
       "    .dataframe tbody tr th {\n",
       "        vertical-align: top;\n",
       "    }\n",
       "\n",
       "    .dataframe thead th {\n",
       "        text-align: right;\n",
       "    }\n",
       "</style>\n",
       "<table border=\"1\" class=\"dataframe\">\n",
       "  <thead>\n",
       "    <tr style=\"text-align: right;\">\n",
       "      <th>parameter</th>\n",
       "      <th>no2</th>\n",
       "      <th>pm25</th>\n",
       "    </tr>\n",
       "    <tr>\n",
       "      <th>date.utc</th>\n",
       "      <th></th>\n",
       "      <th></th>\n",
       "    </tr>\n",
       "  </thead>\n",
       "  <tbody>\n",
       "    <tr>\n",
       "      <th>2019-04-09 01:00:00+00:00</th>\n",
       "      <td>22.5</td>\n",
       "      <td>76.0</td>\n",
       "    </tr>\n",
       "    <tr>\n",
       "      <th>2019-04-09 02:00:00+00:00</th>\n",
       "      <td>53.5</td>\n",
       "      <td>91.5</td>\n",
       "    </tr>\n",
       "    <tr>\n",
       "      <th>2019-04-09 03:00:00+00:00</th>\n",
       "      <td>54.5</td>\n",
       "      <td>99.0</td>\n",
       "    </tr>\n",
       "    <tr>\n",
       "      <th>2019-04-09 04:00:00+00:00</th>\n",
       "      <td>34.5</td>\n",
       "      <td>83.5</td>\n",
       "    </tr>\n",
       "    <tr>\n",
       "      <th>2019-04-09 05:00:00+00:00</th>\n",
       "      <td>46.5</td>\n",
       "      <td>68.0</td>\n",
       "    </tr>\n",
       "  </tbody>\n",
       "</table>\n",
       "</div>"
      ],
      "text/plain": [
       "parameter                   no2  pm25\n",
       "date.utc                             \n",
       "2019-04-09 01:00:00+00:00  22.5  76.0\n",
       "2019-04-09 02:00:00+00:00  53.5  91.5\n",
       "2019-04-09 03:00:00+00:00  54.5  99.0\n",
       "2019-04-09 04:00:00+00:00  34.5  83.5\n",
       "2019-04-09 05:00:00+00:00  46.5  68.0"
      ]
     },
     "execution_count": 93,
     "metadata": {},
     "output_type": "execute_result"
    }
   ],
   "source": [
    "BE_datap= BE_data.pivot(index = \"date.utc\", columns = \"parameter\", values= \"value\")\n",
    "BE_datap.head()"
   ]
  },
  {
   "cell_type": "markdown",
   "id": "8af27bd3",
   "metadata": {},
   "source": [
    "Organizing data starting by date and the parameters (N02 and PM25)"
   ]
  },
  {
   "cell_type": "code",
   "execution_count": 94,
   "id": "BKpjDILp9d1Q",
   "metadata": {
    "colab": {
     "base_uri": "https://localhost:8080/",
     "height": 206
    },
    "id": "BKpjDILp9d1Q",
    "outputId": "586249d0-e0ab-4ad4-d95a-58331d028247"
   },
   "outputs": [
    {
     "data": {
      "text/html": [
       "<div>\n",
       "<style scoped>\n",
       "    .dataframe tbody tr th:only-of-type {\n",
       "        vertical-align: middle;\n",
       "    }\n",
       "\n",
       "    .dataframe tbody tr th {\n",
       "        vertical-align: top;\n",
       "    }\n",
       "\n",
       "    .dataframe thead th {\n",
       "        text-align: right;\n",
       "    }\n",
       "</style>\n",
       "<table border=\"1\" class=\"dataframe\">\n",
       "  <thead>\n",
       "    <tr style=\"text-align: right;\">\n",
       "      <th>parameter</th>\n",
       "      <th>date.utc</th>\n",
       "      <th>no2</th>\n",
       "      <th>pm25</th>\n",
       "    </tr>\n",
       "  </thead>\n",
       "  <tbody>\n",
       "    <tr>\n",
       "      <th>0</th>\n",
       "      <td>2019-04-09 01:00:00+00:00</td>\n",
       "      <td>22.5</td>\n",
       "      <td>76.0</td>\n",
       "    </tr>\n",
       "    <tr>\n",
       "      <th>1</th>\n",
       "      <td>2019-04-09 02:00:00+00:00</td>\n",
       "      <td>53.5</td>\n",
       "      <td>91.5</td>\n",
       "    </tr>\n",
       "    <tr>\n",
       "      <th>2</th>\n",
       "      <td>2019-04-09 03:00:00+00:00</td>\n",
       "      <td>54.5</td>\n",
       "      <td>99.0</td>\n",
       "    </tr>\n",
       "    <tr>\n",
       "      <th>3</th>\n",
       "      <td>2019-04-09 04:00:00+00:00</td>\n",
       "      <td>34.5</td>\n",
       "      <td>83.5</td>\n",
       "    </tr>\n",
       "    <tr>\n",
       "      <th>4</th>\n",
       "      <td>2019-04-09 05:00:00+00:00</td>\n",
       "      <td>46.5</td>\n",
       "      <td>68.0</td>\n",
       "    </tr>\n",
       "  </tbody>\n",
       "</table>\n",
       "</div>"
      ],
      "text/plain": [
       "parameter                   date.utc   no2  pm25\n",
       "0          2019-04-09 01:00:00+00:00  22.5  76.0\n",
       "1          2019-04-09 02:00:00+00:00  53.5  91.5\n",
       "2          2019-04-09 03:00:00+00:00  54.5  99.0\n",
       "3          2019-04-09 04:00:00+00:00  34.5  83.5\n",
       "4          2019-04-09 05:00:00+00:00  46.5  68.0"
      ]
     },
     "execution_count": 94,
     "metadata": {},
     "output_type": "execute_result"
    }
   ],
   "source": [
    "BE_datap.reset_index(inplace = True)\n",
    "BE_datap.head()"
   ]
  },
  {
   "cell_type": "markdown",
   "id": "54fefbdc",
   "metadata": {},
   "source": [
    "inplace = true modifies and commits the changes to the dataframe as a result of a function. In this case, we are adding another column, parameter, that represent the indeces of each respective date starting from 0 and onwards"
   ]
  },
  {
   "cell_type": "markdown",
   "id": "d57c70d2",
   "metadata": {
    "id": "d57c70d2"
   },
   "source": [
    "## Handling Datetime\n",
    "\n",
    "#### Task 6: Create two new columns, month and day of the week\n",
    "\n",
    "#### Task 7: Convert the hourly data into a daily data"
   ]
  },
  {
   "cell_type": "code",
   "execution_count": 95,
   "id": "97c83a84",
   "metadata": {
    "colab": {
     "base_uri": "https://localhost:8080/",
     "height": 206
    },
    "id": "97c83a84",
    "outputId": "c82610ae-3e8f-4343-a984-8a55ed73502a"
   },
   "outputs": [
    {
     "data": {
      "text/html": [
       "<div>\n",
       "<style scoped>\n",
       "    .dataframe tbody tr th:only-of-type {\n",
       "        vertical-align: middle;\n",
       "    }\n",
       "\n",
       "    .dataframe tbody tr th {\n",
       "        vertical-align: top;\n",
       "    }\n",
       "\n",
       "    .dataframe thead th {\n",
       "        text-align: right;\n",
       "    }\n",
       "</style>\n",
       "<table border=\"1\" class=\"dataframe\">\n",
       "  <thead>\n",
       "    <tr style=\"text-align: right;\">\n",
       "      <th>parameter</th>\n",
       "      <th>date.utc</th>\n",
       "      <th>no2</th>\n",
       "      <th>pm25</th>\n",
       "      <th>datetime</th>\n",
       "    </tr>\n",
       "  </thead>\n",
       "  <tbody>\n",
       "    <tr>\n",
       "      <th>0</th>\n",
       "      <td>2019-04-09 01:00:00+00:00</td>\n",
       "      <td>22.5</td>\n",
       "      <td>76.0</td>\n",
       "      <td>2019-04-09 01:00:00+00:00</td>\n",
       "    </tr>\n",
       "    <tr>\n",
       "      <th>1</th>\n",
       "      <td>2019-04-09 02:00:00+00:00</td>\n",
       "      <td>53.5</td>\n",
       "      <td>91.5</td>\n",
       "      <td>2019-04-09 02:00:00+00:00</td>\n",
       "    </tr>\n",
       "    <tr>\n",
       "      <th>2</th>\n",
       "      <td>2019-04-09 03:00:00+00:00</td>\n",
       "      <td>54.5</td>\n",
       "      <td>99.0</td>\n",
       "      <td>2019-04-09 03:00:00+00:00</td>\n",
       "    </tr>\n",
       "    <tr>\n",
       "      <th>3</th>\n",
       "      <td>2019-04-09 04:00:00+00:00</td>\n",
       "      <td>34.5</td>\n",
       "      <td>83.5</td>\n",
       "      <td>2019-04-09 04:00:00+00:00</td>\n",
       "    </tr>\n",
       "    <tr>\n",
       "      <th>4</th>\n",
       "      <td>2019-04-09 05:00:00+00:00</td>\n",
       "      <td>46.5</td>\n",
       "      <td>68.0</td>\n",
       "      <td>2019-04-09 05:00:00+00:00</td>\n",
       "    </tr>\n",
       "  </tbody>\n",
       "</table>\n",
       "</div>"
      ],
      "text/plain": [
       "parameter                   date.utc   no2  pm25                  datetime\n",
       "0          2019-04-09 01:00:00+00:00  22.5  76.0 2019-04-09 01:00:00+00:00\n",
       "1          2019-04-09 02:00:00+00:00  53.5  91.5 2019-04-09 02:00:00+00:00\n",
       "2          2019-04-09 03:00:00+00:00  54.5  99.0 2019-04-09 03:00:00+00:00\n",
       "3          2019-04-09 04:00:00+00:00  34.5  83.5 2019-04-09 04:00:00+00:00\n",
       "4          2019-04-09 05:00:00+00:00  46.5  68.0 2019-04-09 05:00:00+00:00"
      ]
     },
     "execution_count": 95,
     "metadata": {},
     "output_type": "execute_result"
    }
   ],
   "source": [
    "BE_datap [\"datetime\"]= pd.to_datetime(BE_datap[\"date.utc\"])\n",
    "BE_datap.head()"
   ]
  },
  {
   "cell_type": "markdown",
   "id": "06cab8fc",
   "metadata": {},
   "source": [
    "pd.to_datetime converts the argument to datetime. Meaning date.utc will be named in a different column as datetime "
   ]
  },
  {
   "cell_type": "code",
   "execution_count": 96,
   "id": "lYEUFrOg-A8z",
   "metadata": {
    "colab": {
     "base_uri": "https://localhost:8080/"
    },
    "id": "lYEUFrOg-A8z",
    "outputId": "9f3a0c3d-cf77-4482-8ae6-b18673d5d9fe"
   },
   "outputs": [
    {
     "data": {
      "text/plain": [
       "parameter\n",
       "date.utc                 object\n",
       "no2                     float64\n",
       "pm25                    float64\n",
       "datetime    datetime64[ns, UTC]\n",
       "dtype: object"
      ]
     },
     "execution_count": 96,
     "metadata": {},
     "output_type": "execute_result"
    }
   ],
   "source": [
    "BE_datap.dtypes"
   ]
  },
  {
   "cell_type": "code",
   "execution_count": 97,
   "id": "CqL5mmH--Keg",
   "metadata": {
    "colab": {
     "base_uri": "https://localhost:8080/"
    },
    "id": "CqL5mmH--Keg",
    "outputId": "8c2e4623-ae9d-4ec7-e62b-43f96e1efe85"
   },
   "outputs": [
    {
     "data": {
      "text/plain": [
       "Timestamp('2019-04-09 01:00:00+0000', tz='UTC')"
      ]
     },
     "execution_count": 97,
     "metadata": {},
     "output_type": "execute_result"
    }
   ],
   "source": [
    "BE_datap[\"datetime\"].min()"
   ]
  },
  {
   "cell_type": "code",
   "execution_count": 98,
   "id": "989a1d2e",
   "metadata": {},
   "outputs": [
    {
     "data": {
      "text/plain": [
       "Timestamp('2019-06-18 06:00:00+0000', tz='UTC')"
      ]
     },
     "execution_count": 98,
     "metadata": {},
     "output_type": "execute_result"
    }
   ],
   "source": [
    "BE_datap[\"datetime\"].max()"
   ]
  },
  {
   "cell_type": "code",
   "execution_count": 99,
   "id": "YcGtxp6N-S8c",
   "metadata": {
    "colab": {
     "base_uri": "https://localhost:8080/"
    },
    "id": "YcGtxp6N-S8c",
    "outputId": "08be0a92-3036-430c-e001-c4575c6c73c1"
   },
   "outputs": [
    {
     "data": {
      "text/plain": [
       "Timedelta('70 days 05:00:00')"
      ]
     },
     "execution_count": 99,
     "metadata": {},
     "output_type": "execute_result"
    }
   ],
   "source": [
    "BE_datap[\"datetime\"].max()-BE_datap[\"datetime\"].min()"
   ]
  },
  {
   "cell_type": "markdown",
   "id": "3122884d",
   "metadata": {},
   "source": [
    "This shows the differences in days between the last and first date of recorded data for the selected dataset"
   ]
  },
  {
   "cell_type": "code",
   "execution_count": 100,
   "id": "34UZLEJL20AM",
   "metadata": {
    "colab": {
     "base_uri": "https://localhost:8080/"
    },
    "id": "34UZLEJL20AM",
    "outputId": "c3d2d24f-868e-4790-84d9-f0505088e225"
   },
   "outputs": [
    {
     "data": {
      "text/plain": [
       "array([4, 5, 6], dtype=int64)"
      ]
     },
     "execution_count": 100,
     "metadata": {},
     "output_type": "execute_result"
    }
   ],
   "source": [
    "BE_datap [\"month\"] = BE_datap[\"datetime\"].dt.month \n",
    "BE_datap.month.unique()"
   ]
  },
  {
   "cell_type": "markdown",
   "id": "4efdc190",
   "metadata": {},
   "source": [
    "We are trying to record in which months the data was collected in"
   ]
  },
  {
   "cell_type": "code",
   "execution_count": 101,
   "id": "ZUy138rG-dKZ",
   "metadata": {
    "colab": {
     "base_uri": "https://localhost:8080/"
    },
    "id": "ZUy138rG-dKZ",
    "outputId": "244d96fd-9651-4e5c-b529-48b6989ae40d"
   },
   "outputs": [
    {
     "data": {
      "text/plain": [
       "array([1, 2, 3, 4, 0, 5, 6], dtype=int64)"
      ]
     },
     "execution_count": 101,
     "metadata": {},
     "output_type": "execute_result"
    }
   ],
   "source": [
    "BE_datap[\"day\"] = BE_datap[\"datetime\"].dt.dayofweek\n",
    "BE_datap.day.unique()"
   ]
  },
  {
   "cell_type": "markdown",
   "id": "9f29104f",
   "metadata": {},
   "source": [
    "Same as above but for days "
   ]
  },
  {
   "cell_type": "code",
   "execution_count": 102,
   "id": "Lp1kepTf_YJn",
   "metadata": {
    "colab": {
     "base_uri": "https://localhost:8080/",
     "height": 237
    },
    "id": "Lp1kepTf_YJn",
    "outputId": "c407e0f7-57e3-4b4c-c8f5-bb93fd94fbaf"
   },
   "outputs": [
    {
     "data": {
      "text/html": [
       "<div>\n",
       "<style scoped>\n",
       "    .dataframe tbody tr th:only-of-type {\n",
       "        vertical-align: middle;\n",
       "    }\n",
       "\n",
       "    .dataframe tbody tr th {\n",
       "        vertical-align: top;\n",
       "    }\n",
       "\n",
       "    .dataframe thead th {\n",
       "        text-align: right;\n",
       "    }\n",
       "</style>\n",
       "<table border=\"1\" class=\"dataframe\">\n",
       "  <thead>\n",
       "    <tr style=\"text-align: right;\">\n",
       "      <th>parameter</th>\n",
       "      <th>date.utc</th>\n",
       "      <th>no2</th>\n",
       "      <th>pm25</th>\n",
       "      <th>month</th>\n",
       "      <th>day</th>\n",
       "    </tr>\n",
       "    <tr>\n",
       "      <th>datetime</th>\n",
       "      <th></th>\n",
       "      <th></th>\n",
       "      <th></th>\n",
       "      <th></th>\n",
       "      <th></th>\n",
       "    </tr>\n",
       "  </thead>\n",
       "  <tbody>\n",
       "    <tr>\n",
       "      <th>2019-04-09 01:00:00+00:00</th>\n",
       "      <td>2019-04-09 01:00:00+00:00</td>\n",
       "      <td>22.5</td>\n",
       "      <td>76.0</td>\n",
       "      <td>4</td>\n",
       "      <td>1</td>\n",
       "    </tr>\n",
       "    <tr>\n",
       "      <th>2019-04-09 02:00:00+00:00</th>\n",
       "      <td>2019-04-09 02:00:00+00:00</td>\n",
       "      <td>53.5</td>\n",
       "      <td>91.5</td>\n",
       "      <td>4</td>\n",
       "      <td>1</td>\n",
       "    </tr>\n",
       "    <tr>\n",
       "      <th>2019-04-09 03:00:00+00:00</th>\n",
       "      <td>2019-04-09 03:00:00+00:00</td>\n",
       "      <td>54.5</td>\n",
       "      <td>99.0</td>\n",
       "      <td>4</td>\n",
       "      <td>1</td>\n",
       "    </tr>\n",
       "    <tr>\n",
       "      <th>2019-04-09 04:00:00+00:00</th>\n",
       "      <td>2019-04-09 04:00:00+00:00</td>\n",
       "      <td>34.5</td>\n",
       "      <td>83.5</td>\n",
       "      <td>4</td>\n",
       "      <td>1</td>\n",
       "    </tr>\n",
       "    <tr>\n",
       "      <th>2019-04-09 05:00:00+00:00</th>\n",
       "      <td>2019-04-09 05:00:00+00:00</td>\n",
       "      <td>46.5</td>\n",
       "      <td>68.0</td>\n",
       "      <td>4</td>\n",
       "      <td>1</td>\n",
       "    </tr>\n",
       "  </tbody>\n",
       "</table>\n",
       "</div>"
      ],
      "text/plain": [
       "parameter                                   date.utc   no2  pm25  month  day\n",
       "datetime                                                                    \n",
       "2019-04-09 01:00:00+00:00  2019-04-09 01:00:00+00:00  22.5  76.0      4    1\n",
       "2019-04-09 02:00:00+00:00  2019-04-09 02:00:00+00:00  53.5  91.5      4    1\n",
       "2019-04-09 03:00:00+00:00  2019-04-09 03:00:00+00:00  54.5  99.0      4    1\n",
       "2019-04-09 04:00:00+00:00  2019-04-09 04:00:00+00:00  34.5  83.5      4    1\n",
       "2019-04-09 05:00:00+00:00  2019-04-09 05:00:00+00:00  46.5  68.0      4    1"
      ]
     },
     "execution_count": 102,
     "metadata": {},
     "output_type": "execute_result"
    }
   ],
   "source": [
    "BE_datap.set_index('datetime', drop = True, inplace= True)\n",
    "BE_datap.head()"
   ]
  },
  {
   "cell_type": "markdown",
   "id": "87139351",
   "metadata": {},
   "source": [
    "We created two additional columms that represent the month and the day the data was recorded; 4/19/2019 will be considered the 1st day. "
   ]
  },
  {
   "cell_type": "code",
   "execution_count": 103,
   "id": "onSYG-IV_qel",
   "metadata": {
    "colab": {
     "base_uri": "https://localhost:8080/",
     "height": 237
    },
    "id": "onSYG-IV_qel",
    "outputId": "4bf9c9f2-6c9c-4072-dd78-d6f81506f70e"
   },
   "outputs": [
    {
     "data": {
      "text/html": [
       "<div>\n",
       "<style scoped>\n",
       "    .dataframe tbody tr th:only-of-type {\n",
       "        vertical-align: middle;\n",
       "    }\n",
       "\n",
       "    .dataframe tbody tr th {\n",
       "        vertical-align: top;\n",
       "    }\n",
       "\n",
       "    .dataframe thead th {\n",
       "        text-align: right;\n",
       "    }\n",
       "</style>\n",
       "<table border=\"1\" class=\"dataframe\">\n",
       "  <thead>\n",
       "    <tr style=\"text-align: right;\">\n",
       "      <th>parameter</th>\n",
       "      <th>no2</th>\n",
       "      <th>pm25</th>\n",
       "      <th>month</th>\n",
       "      <th>day</th>\n",
       "    </tr>\n",
       "    <tr>\n",
       "      <th>datetime</th>\n",
       "      <th></th>\n",
       "      <th></th>\n",
       "      <th></th>\n",
       "      <th></th>\n",
       "    </tr>\n",
       "  </thead>\n",
       "  <tbody>\n",
       "    <tr>\n",
       "      <th>2019-04-09 00:00:00+00:00</th>\n",
       "      <td>37.961538</td>\n",
       "      <td>59.461538</td>\n",
       "      <td>4.0</td>\n",
       "      <td>1.0</td>\n",
       "    </tr>\n",
       "    <tr>\n",
       "      <th>2019-04-10 00:00:00+00:00</th>\n",
       "      <td>12.500000</td>\n",
       "      <td>25.250000</td>\n",
       "      <td>4.0</td>\n",
       "      <td>2.0</td>\n",
       "    </tr>\n",
       "    <tr>\n",
       "      <th>2019-04-11 00:00:00+00:00</th>\n",
       "      <td>13.750000</td>\n",
       "      <td>9.500000</td>\n",
       "      <td>4.0</td>\n",
       "      <td>3.0</td>\n",
       "    </tr>\n",
       "    <tr>\n",
       "      <th>2019-04-12 00:00:00+00:00</th>\n",
       "      <td>23.750000</td>\n",
       "      <td>22.000000</td>\n",
       "      <td>4.0</td>\n",
       "      <td>4.0</td>\n",
       "    </tr>\n",
       "    <tr>\n",
       "      <th>2019-04-13 00:00:00+00:00</th>\n",
       "      <td>NaN</td>\n",
       "      <td>NaN</td>\n",
       "      <td>NaN</td>\n",
       "      <td>NaN</td>\n",
       "    </tr>\n",
       "  </tbody>\n",
       "</table>\n",
       "</div>"
      ],
      "text/plain": [
       "parameter                        no2       pm25  month  day\n",
       "datetime                                                   \n",
       "2019-04-09 00:00:00+00:00  37.961538  59.461538    4.0  1.0\n",
       "2019-04-10 00:00:00+00:00  12.500000  25.250000    4.0  2.0\n",
       "2019-04-11 00:00:00+00:00  13.750000   9.500000    4.0  3.0\n",
       "2019-04-12 00:00:00+00:00  23.750000  22.000000    4.0  4.0\n",
       "2019-04-13 00:00:00+00:00        NaN        NaN    NaN  NaN"
      ]
     },
     "execution_count": 103,
     "metadata": {},
     "output_type": "execute_result"
    }
   ],
   "source": [
    "dailydata = BE_datap.resample ('D').mean()\n",
    "dailydata.head()"
   ]
  },
  {
   "cell_type": "markdown",
   "id": "b2808db3",
   "metadata": {
    "id": "b2808db3"
   },
   "source": [
    "## Regression\n",
    "\n",
    "#### Task 8: Plot a scatterplot to visually evaluate the relationship between no2 and pm25\n",
    "\n",
    "#### Task 9: Fit a linear regression"
   ]
  },
  {
   "cell_type": "code",
   "execution_count": 104,
   "id": "992bf27e",
   "metadata": {
    "colab": {
     "base_uri": "https://localhost:8080/",
     "height": 296
    },
    "id": "992bf27e",
    "outputId": "36d3f1a0-c18a-4186-dc4a-499fc673e6d0"
   },
   "outputs": [
    {
     "data": {
      "text/plain": [
       "<AxesSubplot:xlabel='no2', ylabel='pm25'>"
      ]
     },
     "execution_count": 104,
     "metadata": {},
     "output_type": "execute_result"
    },
    {
     "data": {
      "image/png": "[encoded data removed]",
      "text/plain": [
       "<Figure size 432x288 with 1 Axes>"
      ]
     },
     "metadata": {
      "needs_background": "light"
     },
     "output_type": "display_data"
    }
   ],
   "source": [
    "dailydata.plot.scatter (x=\"no2\", y=\"pm25\")"
   ]
  },
  {
   "cell_type": "markdown",
   "id": "3c052e1e",
   "metadata": {},
   "source": [
    "The scatterplot shows there is no relationship between the two variables (pm25 and no2). Further analysis must be done to determine the extent of the relationship if there is one; for example, p-value in a t-test"
   ]
  },
  {
   "cell_type": "code",
   "execution_count": 105,
   "id": "39Ju-vZTAHBl",
   "metadata": {
    "colab": {
     "base_uri": "https://localhost:8080/"
    },
    "id": "39Ju-vZTAHBl",
    "outputId": "862bf308-7c6a-497b-a25e-e3125ad69b9c"
   },
   "outputs": [
    {
     "data": {
      "text/plain": [
       "parameter\n",
       "no2      13\n",
       "pm25      3\n",
       "month     3\n",
       "day       3\n",
       "dtype: int64"
      ]
     },
     "execution_count": 105,
     "metadata": {},
     "output_type": "execute_result"
    }
   ],
   "source": [
    "dailydata.isnull().sum()"
   ]
  },
  {
   "cell_type": "markdown",
   "id": "728046fb",
   "metadata": {},
   "source": [
    "The following are the total of missing values from the selected array"
   ]
  },
  {
   "cell_type": "code",
   "execution_count": 106,
   "id": "_5oAPho_AM3Z",
   "metadata": {
    "colab": {
     "base_uri": "https://localhost:8080/"
    },
    "id": "_5oAPho_AM3Z",
    "outputId": "7eaee8e4-6d16-4457-e549-8c01dd4266c0"
   },
   "outputs": [
    {
     "data": {
      "text/plain": [
       "(180, 5)"
      ]
     },
     "execution_count": 106,
     "metadata": {},
     "output_type": "execute_result"
    }
   ],
   "source": [
    "BE_datap.shape"
   ]
  },
  {
   "cell_type": "code",
   "execution_count": 107,
   "id": "lS3tNXLpAVbg",
   "metadata": {
    "colab": {
     "base_uri": "https://localhost:8080/"
    },
    "id": "lS3tNXLpAVbg",
    "outputId": "1383e7e3-e21c-473c-8a89-6b0bfa1ba145"
   },
   "outputs": [
    {
     "data": {
      "text/plain": [
       "(71, 4)"
      ]
     },
     "execution_count": 107,
     "metadata": {},
     "output_type": "execute_result"
    }
   ],
   "source": [
    "dailydata.shape"
   ]
  },
  {
   "cell_type": "code",
   "execution_count": 108,
   "id": "acviVFoCAW8h",
   "metadata": {
    "colab": {
     "base_uri": "https://localhost:8080/"
    },
    "id": "acviVFoCAW8h",
    "outputId": "91df49cb-4585-4108-bfdd-1e67b16111b6"
   },
   "outputs": [
    {
     "name": "stdout",
     "output_type": "stream",
     "text": [
      "number of rows dropped that had missing values: 13\n"
     ]
    }
   ],
   "source": [
    "cleaneddata= dailydata.dropna()\n",
    "rowsdropped = dailydata.shape [0] - cleaneddata.shape [0]\n",
    "print (\"number of rows dropped that had missing values: \" + str (rowsdropped))"
   ]
  },
  {
   "cell_type": "code",
   "execution_count": 109,
   "id": "TTBCj1a-BPJB",
   "metadata": {
    "colab": {
     "base_uri": "https://localhost:8080/"
    },
    "id": "TTBCj1a-BPJB",
    "outputId": "72b237e9-d3f1-4709-be3c-8a6bb77c003b"
   },
   "outputs": [
    {
     "name": "stderr",
     "output_type": "stream",
     "text": [
      "C:\\Users\\nickh\\anaconda3\\lib\\site-packages\\statsmodels\\tsa\\tsatools.py:142: FutureWarning: In a future version of pandas all arguments of concat except for the argument 'objs' will be keyword-only\n",
      "  x = pd.concat(x[::order], 1)\n"
     ]
    }
   ],
   "source": [
    "import statsmodels.api as sm\n",
    "Y = cleaneddata[\"pm25\"]\n",
    "X = cleaneddata[\"no2\"]\n",
    "X = sm.add_constant(X)\n",
    "\n",
    "regmodel = sm.OLS(Y,X)\n"
   ]
  },
  {
   "cell_type": "code",
   "execution_count": 110,
   "id": "pkX2_8UYBTSh",
   "metadata": {
    "colab": {
     "base_uri": "https://localhost:8080/",
     "height": 448
    },
    "id": "pkX2_8UYBTSh",
    "outputId": "f6d38cf5-2256-4504-8c0b-a1a609aa90a5"
   },
   "outputs": [
    {
     "data": {
      "text/html": [
       "<table class=\"simpletable\">\n",
       "<caption>OLS Regression Results</caption>\n",
       "<tr>\n",
       "  <th>Dep. Variable:</th>          <td>pm25</td>       <th>  R-squared:         </th> <td>   0.052</td>\n",
       "</tr>\n",
       "<tr>\n",
       "  <th>Model:</th>                   <td>OLS</td>       <th>  Adj. R-squared:    </th> <td>   0.035</td>\n",
       "</tr>\n",
       "<tr>\n",
       "  <th>Method:</th>             <td>Least Squares</td>  <th>  F-statistic:       </th> <td>   3.087</td>\n",
       "</tr>\n",
       "<tr>\n",
       "  <th>Date:</th>             <td>Tue, 08 Feb 2022</td> <th>  Prob (F-statistic):</th>  <td>0.0844</td> \n",
       "</tr>\n",
       "<tr>\n",
       "  <th>Time:</th>                 <td>19:07:58</td>     <th>  Log-Likelihood:    </th> <td> -223.92</td>\n",
       "</tr>\n",
       "<tr>\n",
       "  <th>No. Observations:</th>      <td>    58</td>      <th>  AIC:               </th> <td>   451.8</td>\n",
       "</tr>\n",
       "<tr>\n",
       "  <th>Df Residuals:</th>          <td>    56</td>      <th>  BIC:               </th> <td>   456.0</td>\n",
       "</tr>\n",
       "<tr>\n",
       "  <th>Df Model:</th>              <td>     1</td>      <th>                     </th>     <td> </td>   \n",
       "</tr>\n",
       "<tr>\n",
       "  <th>Covariance Type:</th>      <td>nonrobust</td>    <th>                     </th>     <td> </td>   \n",
       "</tr>\n",
       "</table>\n",
       "<table class=\"simpletable\">\n",
       "<tr>\n",
       "    <td></td>       <th>coef</th>     <th>std err</th>      <th>t</th>      <th>P>|t|</th>  <th>[0.025</th>    <th>0.975]</th>  \n",
       "</tr>\n",
       "<tr>\n",
       "  <th>const</th> <td>   10.3841</td> <td>    3.021</td> <td>    3.437</td> <td> 0.001</td> <td>    4.331</td> <td>   16.437</td>\n",
       "</tr>\n",
       "<tr>\n",
       "  <th>no2</th>   <td>    0.1833</td> <td>    0.104</td> <td>    1.757</td> <td> 0.084</td> <td>   -0.026</td> <td>    0.392</td>\n",
       "</tr>\n",
       "</table>\n",
       "<table class=\"simpletable\">\n",
       "<tr>\n",
       "  <th>Omnibus:</th>       <td>26.523</td> <th>  Durbin-Watson:     </th> <td>   0.993</td>\n",
       "</tr>\n",
       "<tr>\n",
       "  <th>Prob(Omnibus):</th> <td> 0.000</td> <th>  Jarque-Bera (JB):  </th> <td>  42.193</td>\n",
       "</tr>\n",
       "<tr>\n",
       "  <th>Skew:</th>          <td> 1.641</td> <th>  Prob(JB):          </th> <td>6.88e-10</td>\n",
       "</tr>\n",
       "<tr>\n",
       "  <th>Kurtosis:</th>      <td> 5.585</td> <th>  Cond. No.          </th> <td>    57.0</td>\n",
       "</tr>\n",
       "</table><br/><br/>Notes:<br/>[1] Standard Errors assume that the covariance matrix of the errors is correctly specified."
      ],
      "text/plain": [
       "<class 'statsmodels.iolib.summary.Summary'>\n",
       "\"\"\"\n",
       "                            OLS Regression Results                            \n",
       "==============================================================================\n",
       "Dep. Variable:                   pm25   R-squared:                       0.052\n",
       "Model:                            OLS   Adj. R-squared:                  0.035\n",
       "Method:                 Least Squares   F-statistic:                     3.087\n",
       "Date:                Tue, 08 Feb 2022   Prob (F-statistic):             0.0844\n",
       "Time:                        19:07:58   Log-Likelihood:                -223.92\n",
       "No. Observations:                  58   AIC:                             451.8\n",
       "Df Residuals:                      56   BIC:                             456.0\n",
       "Df Model:                           1                                         \n",
       "Covariance Type:            nonrobust                                         \n",
       "==============================================================================\n",
       "                 coef    std err          t      P>|t|      [0.025      0.975]\n",
       "------------------------------------------------------------------------------\n",
       "const         10.3841      3.021      3.437      0.001       4.331      16.437\n",
       "no2            0.1833      0.104      1.757      0.084      -0.026       0.392\n",
       "==============================================================================\n",
       "Omnibus:                       26.523   Durbin-Watson:                   0.993\n",
       "Prob(Omnibus):                  0.000   Jarque-Bera (JB):               42.193\n",
       "Skew:                           1.641   Prob(JB):                     6.88e-10\n",
       "Kurtosis:                       5.585   Cond. No.                         57.0\n",
       "==============================================================================\n",
       "\n",
       "Notes:\n",
       "[1] Standard Errors assume that the covariance matrix of the errors is correctly specified.\n",
       "\"\"\""
      ]
     },
     "execution_count": 110,
     "metadata": {},
     "output_type": "execute_result"
    }
   ],
   "source": [
    "regmodel.fit ().summary ()"
   ]
  },
  {
   "cell_type": "markdown",
   "id": "aca3e433",
   "metadata": {},
   "source": [
    "Since the p-value for NO2 is greater than the standard alpha value of 0.05, we can conclude there's not a statistically significant relationship between pm25 and no2."
   ]
  },
  {
   "cell_type": "code",
   "execution_count": 111,
   "id": "zp73LK0yCl7K",
   "metadata": {
    "colab": {
     "base_uri": "https://localhost:8080/"
    },
    "id": "zp73LK0yCl7K",
    "outputId": "9ffa78f3-06ef-42b0-e597-4c5144f7adca"
   },
   "outputs": [
    {
     "data": {
      "text/plain": [
       "const    10.384135\n",
       "no2       0.183290\n",
       "dtype: float64"
      ]
     },
     "execution_count": 111,
     "metadata": {},
     "output_type": "execute_result"
    }
   ],
   "source": [
    "regmodel.fit ().params"
   ]
  },
  {
   "cell_type": "markdown",
   "id": "1d2ba96b",
   "metadata": {},
   "source": [
    "The following is the regression equation : Y(pm25)= 10.3841 + 0.1833*(no2)"
   ]
  },
  {
   "cell_type": "markdown",
   "id": "ff82b56b",
   "metadata": {
    "id": "ff82b56b"
   },
   "source": [
    "## Forecast\n",
    "\n",
    "#### Task 10: Fit a exponential smoothing (Holt Winters) Model"
   ]
  },
  {
   "cell_type": "code",
   "execution_count": 112,
   "id": "7461fc69",
   "metadata": {
    "id": "7461fc69"
   },
   "outputs": [],
   "source": [
    "from statsmodels.tsa.holtwinters import ExponentialSmoothing"
   ]
  },
  {
   "cell_type": "code",
   "execution_count": 113,
   "id": "Q9CGBIXD0IxU",
   "metadata": {
    "colab": {
     "base_uri": "https://localhost:8080/",
     "height": 237
    },
    "id": "Q9CGBIXD0IxU",
    "outputId": "188b526f-5330-40f7-a455-2e922378afa4"
   },
   "outputs": [
    {
     "data": {
      "text/html": [
       "<div>\n",
       "<style scoped>\n",
       "    .dataframe tbody tr th:only-of-type {\n",
       "        vertical-align: middle;\n",
       "    }\n",
       "\n",
       "    .dataframe tbody tr th {\n",
       "        vertical-align: top;\n",
       "    }\n",
       "\n",
       "    .dataframe thead th {\n",
       "        text-align: right;\n",
       "    }\n",
       "</style>\n",
       "<table border=\"1\" class=\"dataframe\">\n",
       "  <thead>\n",
       "    <tr style=\"text-align: right;\">\n",
       "      <th>parameter</th>\n",
       "      <th>no2</th>\n",
       "      <th>pm25</th>\n",
       "      <th>month</th>\n",
       "      <th>day</th>\n",
       "    </tr>\n",
       "    <tr>\n",
       "      <th>datetime</th>\n",
       "      <th></th>\n",
       "      <th></th>\n",
       "      <th></th>\n",
       "      <th></th>\n",
       "    </tr>\n",
       "  </thead>\n",
       "  <tbody>\n",
       "    <tr>\n",
       "      <th>2019-04-09 00:00:00+00:00</th>\n",
       "      <td>37.961538</td>\n",
       "      <td>59.461538</td>\n",
       "      <td>4.0</td>\n",
       "      <td>1.0</td>\n",
       "    </tr>\n",
       "    <tr>\n",
       "      <th>2019-04-10 00:00:00+00:00</th>\n",
       "      <td>12.500000</td>\n",
       "      <td>25.250000</td>\n",
       "      <td>4.0</td>\n",
       "      <td>2.0</td>\n",
       "    </tr>\n",
       "    <tr>\n",
       "      <th>2019-04-11 00:00:00+00:00</th>\n",
       "      <td>13.750000</td>\n",
       "      <td>9.500000</td>\n",
       "      <td>4.0</td>\n",
       "      <td>3.0</td>\n",
       "    </tr>\n",
       "    <tr>\n",
       "      <th>2019-04-12 00:00:00+00:00</th>\n",
       "      <td>23.750000</td>\n",
       "      <td>22.000000</td>\n",
       "      <td>4.0</td>\n",
       "      <td>4.0</td>\n",
       "    </tr>\n",
       "    <tr>\n",
       "      <th>2019-04-15 00:00:00+00:00</th>\n",
       "      <td>38.166667</td>\n",
       "      <td>24.700000</td>\n",
       "      <td>4.0</td>\n",
       "      <td>0.0</td>\n",
       "    </tr>\n",
       "  </tbody>\n",
       "</table>\n",
       "</div>"
      ],
      "text/plain": [
       "parameter                        no2       pm25  month  day\n",
       "datetime                                                   \n",
       "2019-04-09 00:00:00+00:00  37.961538  59.461538    4.0  1.0\n",
       "2019-04-10 00:00:00+00:00  12.500000  25.250000    4.0  2.0\n",
       "2019-04-11 00:00:00+00:00  13.750000   9.500000    4.0  3.0\n",
       "2019-04-12 00:00:00+00:00  23.750000  22.000000    4.0  4.0\n",
       "2019-04-15 00:00:00+00:00  38.166667  24.700000    4.0  0.0"
      ]
     },
     "execution_count": 113,
     "metadata": {},
     "output_type": "execute_result"
    }
   ],
   "source": [
    "cleaneddata.head()"
   ]
  },
  {
   "cell_type": "markdown",
   "id": "f423506c",
   "metadata": {},
   "source": [
    "Making sure the data I'm using is the correct one "
   ]
  },
  {
   "cell_type": "code",
   "execution_count": 114,
   "id": "opGdYqdjtcwh",
   "metadata": {
    "colab": {
     "base_uri": "https://localhost:8080/"
    },
    "id": "opGdYqdjtcwh",
    "outputId": "82c87536-5311-4bf8-da9f-c899805ab74c"
   },
   "outputs": [
    {
     "name": "stderr",
     "output_type": "stream",
     "text": [
      "C:\\Users\\nickh\\anaconda3\\lib\\site-packages\\statsmodels\\tsa\\base\\tsa_model.py:581: ValueWarning: A date index has been provided, but it has no associated frequency information and so will be ignored when e.g. forecasting.\n",
      "  warnings.warn('A date index has been provided, but it has no'\n",
      "C:\\Users\\nickh\\anaconda3\\lib\\site-packages\\statsmodels\\tsa\\holtwinters\\model.py:427: FutureWarning: After 0.13 initialization must be handled at model creation\n",
      "  warnings.warn(\n",
      "C:\\Users\\nickh\\anaconda3\\lib\\site-packages\\statsmodels\\tsa\\base\\tsa_model.py:376: ValueWarning: No supported index is available. Prediction results will be given with an integer index beginning at `start`.\n",
      "  warnings.warn('No supported index is available.'\n"
     ]
    }
   ],
   "source": [
    "add_model= ExponentialSmoothing(cleaneddata['pm25'], trend ='additive', seasonal = 'additive', seasonal_periods = 7)\n",
    "add_results = add_model.fit()\n",
    "add_fit = add_results.predict (0, len(cleaneddata))"
   ]
  },
  {
   "cell_type": "code",
   "execution_count": 115,
   "id": "Tm_jtIXaDfpE",
   "metadata": {
    "colab": {
     "base_uri": "https://localhost:8080/"
    },
    "id": "Tm_jtIXaDfpE",
    "outputId": "d5b3d642-ec4c-4126-dbe9-cf980c7c7c8a"
   },
   "outputs": [
    {
     "name": "stderr",
     "output_type": "stream",
     "text": [
      "C:\\Users\\nickh\\anaconda3\\lib\\site-packages\\statsmodels\\tsa\\base\\tsa_model.py:581: ValueWarning: A date index has been provided, but it has no associated frequency information and so will be ignored when e.g. forecasting.\n",
      "  warnings.warn('A date index has been provided, but it has no'\n",
      "C:\\Users\\nickh\\anaconda3\\lib\\site-packages\\statsmodels\\tsa\\holtwinters\\model.py:80: RuntimeWarning: overflow encountered in matmul\n",
      "  return err.T @ err\n",
      "C:\\Users\\nickh\\anaconda3\\lib\\site-packages\\statsmodels\\tsa\\base\\tsa_model.py:376: ValueWarning: No supported index is available. Prediction results will be given with an integer index beginning at `start`.\n",
      "  warnings.warn('No supported index is available.'\n"
     ]
    }
   ],
   "source": [
    "mul_model= ExponentialSmoothing(cleaneddata['pm25'], trend ='multiplicative', seasonal = 'multiplicative', seasonal_periods = 7)\n",
    "mul_results = mul_model.fit()\n",
    "mul_fit = mul_results.predict (0, len(cleaneddata))"
   ]
  },
  {
   "cell_type": "code",
   "execution_count": 116,
   "id": "y3JWsTZrEMPI",
   "metadata": {
    "id": "y3JWsTZrEMPI"
   },
   "outputs": [],
   "source": [
    "import matplotlib.pyplot as plt"
   ]
  },
  {
   "cell_type": "code",
   "execution_count": 118,
   "id": "ehI1dgMdtRf4",
   "metadata": {
    "colab": {
     "base_uri": "https://localhost:8080/"
    },
    "id": "ehI1dgMdtRf4",
    "outputId": "081ea1d8-4889-4c3b-eb8b-35fa6d9eedc8"
   },
   "outputs": [
    {
     "name": "stdout",
     "output_type": "stream",
     "text": [
      "datetime\n",
      "2019-04-09 00:00:00+00:00    59.461538\n",
      "2019-04-10 00:00:00+00:00    25.250000\n",
      "2019-04-11 00:00:00+00:00     9.500000\n",
      "2019-04-12 00:00:00+00:00    22.000000\n",
      "2019-04-15 00:00:00+00:00    24.700000\n",
      "2019-04-16 00:00:00+00:00    23.500000\n",
      "2019-04-17 00:00:00+00:00     8.500000\n",
      "2019-04-18 00:00:00+00:00    25.750000\n",
      "2019-04-19 00:00:00+00:00    20.000000\n",
      "2019-04-21 00:00:00+00:00    27.000000\n",
      "2019-04-22 00:00:00+00:00    34.500000\n",
      "2019-04-25 00:00:00+00:00     3.000000\n",
      "2019-04-26 00:00:00+00:00     4.250000\n",
      "2019-04-27 00:00:00+00:00     6.750000\n",
      "2019-04-28 00:00:00+00:00     5.500000\n",
      "2019-04-29 00:00:00+00:00    14.250000\n",
      "2019-04-30 00:00:00+00:00    16.000000\n",
      "2019-05-01 00:00:00+00:00    31.500000\n",
      "2019-05-02 00:00:00+00:00    45.750000\n",
      "2019-05-03 00:00:00+00:00     9.000000\n",
      "2019-05-04 00:00:00+00:00     4.250000\n",
      "2019-05-05 00:00:00+00:00     4.000000\n",
      "2019-05-06 00:00:00+00:00    10.250000\n",
      "2019-05-07 00:00:00+00:00    13.250000\n",
      "2019-05-08 00:00:00+00:00    14.250000\n",
      "2019-05-09 00:00:00+00:00     4.000000\n",
      "2019-05-10 00:00:00+00:00    12.500000\n",
      "2019-05-11 00:00:00+00:00    18.250000\n",
      "2019-05-12 00:00:00+00:00     6.000000\n",
      "2019-05-13 00:00:00+00:00     5.250000\n",
      "2019-05-14 00:00:00+00:00     4.000000\n",
      "2019-05-15 00:00:00+00:00    12.750000\n",
      "2019-05-16 00:00:00+00:00    11.000000\n",
      "2019-05-18 00:00:00+00:00    38.071429\n",
      "2019-05-19 00:00:00+00:00    46.090909\n",
      "2019-05-20 00:00:00+00:00    18.617647\n",
      "2019-05-21 00:00:00+00:00    20.500000\n",
      "2019-05-22 00:00:00+00:00    15.500000\n",
      "2019-05-23 00:00:00+00:00     7.500000\n",
      "2019-05-24 00:00:00+00:00    13.000000\n",
      "2019-05-25 00:00:00+00:00    10.000000\n",
      "2019-05-26 00:00:00+00:00    26.500000\n",
      "2019-05-27 00:00:00+00:00     7.500000\n",
      "2019-05-28 00:00:00+00:00     7.000000\n",
      "2019-05-29 00:00:00+00:00     5.500000\n",
      "2019-05-30 00:00:00+00:00     5.000000\n",
      "2019-05-31 00:00:00+00:00     6.000000\n",
      "2019-06-01 00:00:00+00:00     9.000000\n",
      "2019-06-05 00:00:00+00:00    11.000000\n",
      "2019-06-09 00:00:00+00:00     6.000000\n",
      "2019-06-10 00:00:00+00:00     8.500000\n",
      "2019-06-11 00:00:00+00:00     3.500000\n",
      "2019-06-12 00:00:00+00:00    16.000000\n",
      "2019-06-13 00:00:00+00:00     3.000000\n",
      "2019-06-14 00:00:00+00:00    12.000000\n",
      "2019-06-15 00:00:00+00:00    11.000000\n",
      "2019-06-16 00:00:00+00:00    15.000000\n",
      "2019-06-17 00:00:00+00:00     9.750000\n",
      "Name: pm25, dtype: float64\n"
     ]
    }
   ],
   "source": [
    "pm_sample = cleaneddata.iloc[:,1]\n",
    "print (pm_sample)"
   ]
  },
  {
   "cell_type": "markdown",
   "id": "3e3fd135",
   "metadata": {},
   "source": [
    "I encountered problems in the next line of code so I made a new variable (pm_sample) to select and store all the data values found in the pm25 column. I did this because I kept on encountering an error that prevented the graph from creating the black solid line to compare against the other dashed lines. My initial thought was that the cleaneddata variable was not properly storing the values, therefore not producing the line. In addition, another error popped up (Error DateFormatter found a value of x=0, which is an illegal date in matplotlib bar plot). I got around this error by creating the pm_sample variable, which listed all the datetime and pm25 values in order "
   ]
  },
  {
   "cell_type": "code",
   "execution_count": 121,
   "id": "GjK8UkKQBURT",
   "metadata": {
    "colab": {
     "base_uri": "https://localhost:8080/",
     "height": 1000
    },
    "id": "GjK8UkKQBURT",
    "outputId": "74cbf1cd-2734-48ca-fb39-fdac85530e92"
   },
   "outputs": [
    {
     "data": {
      "text/plain": [
       "<Figure size 864x576 with 0 Axes>"
      ]
     },
     "execution_count": 121,
     "metadata": {},
     "output_type": "execute_result"
    },
    {
     "data": {
      "text/plain": [
       "([<matplotlib.axis.XTick at 0x25b31954ac0>,\n",
       "  <matplotlib.axis.XTick at 0x25b31e19580>,\n",
       "  <matplotlib.axis.XTick at 0x25b31d74940>,\n",
       "  <matplotlib.axis.XTick at 0x25b32345700>,\n",
       "  <matplotlib.axis.XTick at 0x25b32345e50>,\n",
       "  <matplotlib.axis.XTick at 0x25b3234a5e0>,\n",
       "  <matplotlib.axis.XTick at 0x25b3234ad30>,\n",
       "  <matplotlib.axis.XTick at 0x25b323504c0>,\n",
       "  <matplotlib.axis.XTick at 0x25b3234a490>,\n",
       "  <matplotlib.axis.XTick at 0x25b32350400>,\n",
       "  <matplotlib.axis.XTick at 0x25b32350ca0>,\n",
       "  <matplotlib.axis.XTick at 0x25b32357430>,\n",
       "  <matplotlib.axis.XTick at 0x25b32357b80>,\n",
       "  <matplotlib.axis.XTick at 0x25b3235e310>,\n",
       "  <matplotlib.axis.XTick at 0x25b32357eb0>,\n",
       "  <matplotlib.axis.XTick at 0x25b32350d00>,\n",
       "  <matplotlib.axis.XTick at 0x25b3235eaf0>,\n",
       "  <matplotlib.axis.XTick at 0x25b32125070>,\n",
       "  <matplotlib.axis.XTick at 0x25b32125700>,\n",
       "  <matplotlib.axis.XTick at 0x25b32125e50>,\n",
       "  <matplotlib.axis.XTick at 0x25b3212a5e0>,\n",
       "  <matplotlib.axis.XTick at 0x25b32125a30>,\n",
       "  <matplotlib.axis.XTick at 0x25b323451c0>,\n",
       "  <matplotlib.axis.XTick at 0x25b3212a070>,\n",
       "  <matplotlib.axis.XTick at 0x25b32132280>,\n",
       "  <matplotlib.axis.XTick at 0x25b321329d0>,\n",
       "  <matplotlib.axis.XTick at 0x25b32139160>,\n",
       "  <matplotlib.axis.XTick at 0x25b321398b0>,\n",
       "  <matplotlib.axis.XTick at 0x25b321326d0>,\n",
       "  <matplotlib.axis.XTick at 0x25b3235eeb0>,\n",
       "  <matplotlib.axis.XTick at 0x25b32139100>,\n",
       "  <matplotlib.axis.XTick at 0x25b32140430>,\n",
       "  <matplotlib.axis.XTick at 0x25b32140b80>,\n",
       "  <matplotlib.axis.XTick at 0x25b32144310>,\n",
       "  <matplotlib.axis.XTick at 0x25b32144a60>,\n",
       "  <matplotlib.axis.XTick at 0x25b32140370>,\n",
       "  <matplotlib.axis.XTick at 0x25b32132130>,\n",
       "  <matplotlib.axis.XTick at 0x25b32144e50>,\n",
       "  <matplotlib.axis.XTick at 0x25b3214e5e0>,\n",
       "  <matplotlib.axis.XTick at 0x25b3214ed30>,\n",
       "  <matplotlib.axis.XTick at 0x25b321544c0>,\n",
       "  <matplotlib.axis.XTick at 0x25b3214ed90>,\n",
       "  <matplotlib.axis.XTick at 0x25b32144610>,\n",
       "  <matplotlib.axis.XTick at 0x25b32154cd0>,\n",
       "  <matplotlib.axis.XTick at 0x25b3215b0d0>,\n",
       "  <matplotlib.axis.XTick at 0x25b3215b820>,\n",
       "  <matplotlib.axis.XTick at 0x25b32160070>,\n",
       "  <matplotlib.axis.XTick at 0x25b32160700>,\n",
       "  <matplotlib.axis.XTick at 0x25b3215bb50>,\n",
       "  <matplotlib.axis.XTick at 0x25b32139760>,\n",
       "  <matplotlib.axis.XTick at 0x25b32160190>,\n",
       "  <matplotlib.axis.XTick at 0x25b321683a0>,\n",
       "  <matplotlib.axis.XTick at 0x25b32168af0>,\n",
       "  <matplotlib.axis.XTick at 0x25b3216e280>,\n",
       "  <matplotlib.axis.XTick at 0x25b3216e9d0>,\n",
       "  <matplotlib.axis.XTick at 0x25b321687f0>,\n",
       "  <matplotlib.axis.XTick at 0x25b32154fd0>,\n",
       "  <matplotlib.axis.XTick at 0x25b3216e220>],\n",
       " [Text(0, 0, ''),\n",
       "  Text(0, 0, ''),\n",
       "  Text(0, 0, ''),\n",
       "  Text(0, 0, ''),\n",
       "  Text(0, 0, ''),\n",
       "  Text(0, 0, ''),\n",
       "  Text(0, 0, ''),\n",
       "  Text(0, 0, ''),\n",
       "  Text(0, 0, ''),\n",
       "  Text(0, 0, ''),\n",
       "  Text(0, 0, ''),\n",
       "  Text(0, 0, ''),\n",
       "  Text(0, 0, ''),\n",
       "  Text(0, 0, ''),\n",
       "  Text(0, 0, ''),\n",
       "  Text(0, 0, ''),\n",
       "  Text(0, 0, ''),\n",
       "  Text(0, 0, ''),\n",
       "  Text(0, 0, ''),\n",
       "  Text(0, 0, ''),\n",
       "  Text(0, 0, ''),\n",
       "  Text(0, 0, ''),\n",
       "  Text(0, 0, ''),\n",
       "  Text(0, 0, ''),\n",
       "  Text(0, 0, ''),\n",
       "  Text(0, 0, ''),\n",
       "  Text(0, 0, ''),\n",
       "  Text(0, 0, ''),\n",
       "  Text(0, 0, ''),\n",
       "  Text(0, 0, ''),\n",
       "  Text(0, 0, ''),\n",
       "  Text(0, 0, ''),\n",
       "  Text(0, 0, ''),\n",
       "  Text(0, 0, ''),\n",
       "  Text(0, 0, ''),\n",
       "  Text(0, 0, ''),\n",
       "  Text(0, 0, ''),\n",
       "  Text(0, 0, ''),\n",
       "  Text(0, 0, ''),\n",
       "  Text(0, 0, ''),\n",
       "  Text(0, 0, ''),\n",
       "  Text(0, 0, ''),\n",
       "  Text(0, 0, ''),\n",
       "  Text(0, 0, ''),\n",
       "  Text(0, 0, ''),\n",
       "  Text(0, 0, ''),\n",
       "  Text(0, 0, ''),\n",
       "  Text(0, 0, ''),\n",
       "  Text(0, 0, ''),\n",
       "  Text(0, 0, ''),\n",
       "  Text(0, 0, ''),\n",
       "  Text(0, 0, ''),\n",
       "  Text(0, 0, ''),\n",
       "  Text(0, 0, ''),\n",
       "  Text(0, 0, ''),\n",
       "  Text(0, 0, ''),\n",
       "  Text(0, 0, ''),\n",
       "  Text(0, 0, '')])"
      ]
     },
     "execution_count": 121,
     "metadata": {},
     "output_type": "execute_result"
    },
    {
     "data": {
      "text/plain": [
       "[<matplotlib.lines.Line2D at 0x25b32174850>]"
      ]
     },
     "execution_count": 121,
     "metadata": {},
     "output_type": "execute_result"
    },
    {
     "data": {
      "text/plain": [
       "[<matplotlib.lines.Line2D at 0x25b321749d0>]"
      ]
     },
     "execution_count": 121,
     "metadata": {},
     "output_type": "execute_result"
    },
    {
     "data": {
      "text/plain": [
       "[<matplotlib.lines.Line2D at 0x25b32168b20>]"
      ]
     },
     "execution_count": 121,
     "metadata": {},
     "output_type": "execute_result"
    },
    {
     "data": {
      "image/png": "[encoded data removed]",
      "text/plain": [
       "<Figure size 864x576 with 1 Axes>"
      ]
     },
     "metadata": {
      "needs_background": "light"
     },
     "output_type": "display_data"
    }
   ],
   "source": [
    "plt.figure (figsize = (12,8))\n",
    "tickvalues = range (0, len(cleaneddata.index))\n",
    "plt.xticks (ticks = tickvalues, rotation ='vertical')\n",
    "plt.plot(pm_sample[1], linestyle = 'solid', color ='black', label = 'Actual')\n",
    "plt.plot(add_fit, linestyle = 'dashed', color= 'red', marker='+', label = 'Additive Model')\n",
    "plt.plot(mul_fit, linestyle = 'dashed', color= 'blue', marker= '*', label = 'Multiplicative Model') \n"
   ]
  },
  {
   "cell_type": "markdown",
   "id": "6cf2d182",
   "metadata": {},
   "source": [
    "THere is a decreasing trend for the additive model. The multiplicative model does not show any trend. Therefore the additive model would be more useful to use. \n",
    " "
   ]
  },
  {
   "cell_type": "markdown",
   "id": "95b0f405",
   "metadata": {},
   "source": [
    "Note: I tried my best in finding a way to display the raw data (black solid line) but my very limited knowledge of python failed me to reach a solution."
   ]
  },
  {
   "cell_type": "markdown",
   "id": "827547f0",
   "metadata": {
    "id": "3143c750"
   },
   "source": [
    "More information available on [to_datetime](https://pandas.pydata.org/docs/user_guide/timeseries.html#timeseries-components)\n",
    "[What is the point of indexing in pandas](https://stackoverflow.com/questions/27238066/what-is-the-point-of-indexing-in-pandas)"
   ]
  },
  {
   "cell_type": "markdown",
   "id": "ed0d2f9a",
   "metadata": {
    "id": "ed0d2f9a"
   },
   "source": [
    "Reference: https://pandas.pydata.org/docs/user_guide/reshaping.html#reshaping-reshaping"
   ]
  }
 ],
 "metadata": {
  "colab": {
   "name": "Week 2 hw.ipynb",
   "provenance": []
  },
  "kernelspec": {
   "display_name": "Python 3 (ipykernel)",
   "language": "python",
   "name": "python3"
  },
  "language_info": {
   "codemirror_mode": {
    "name": "ipython",
    "version": 3
   },
   "file_extension": ".py",
   "mimetype": "text/x-python",
   "name": "python",
   "nbconvert_exporter": "python",
   "pygments_lexer": "ipython3",
   "version": "3.9.7"
  }
 },
 "nbformat": 4,
 "nbformat_minor": 5
}
