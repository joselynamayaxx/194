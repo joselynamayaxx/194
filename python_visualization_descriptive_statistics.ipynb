{
 "cells": [
  {
   "cell_type": "code",
   "execution_count": 103,
   "id": "625b62b9",
   "metadata": {},
   "outputs": [],
   "source": [
    "# This piece of code enables display of multiple output from one cell.\n",
    "from IPython.core.interactiveshell import InteractiveShell\n",
    "InteractiveShell.ast_node_interactivity = 'all'"
   ]
  },
  {
   "cell_type": "markdown",
   "id": "0ef284a2",
   "metadata": {},
   "source": [
    "# Exploratory Data Analysis¶\n",
    "We will use Pandas and Matplotlib modules in this workbook. Seaborn module also has good visualizations methods. You are welcome to explore on your own."
   ]
  },
  {
   "cell_type": "code",
   "execution_count": 104,
   "id": "a43bf118",
   "metadata": {},
   "outputs": [],
   "source": [
    "import pandas as pd\n",
    "import numpy as np\n",
    "from scipy import stats\n",
    "import matplotlib.pyplot as plt"
   ]
  },
  {
   "cell_type": "code",
   "execution_count": 105,
   "id": "9c51dea6",
   "metadata": {},
   "outputs": [
    {
     "data": {
      "text/html": [
       "<div>\n",
       "<style scoped>\n",
       "    .dataframe tbody tr th:only-of-type {\n",
       "        vertical-align: middle;\n",
       "    }\n",
       "\n",
       "    .dataframe tbody tr th {\n",
       "        vertical-align: top;\n",
       "    }\n",
       "\n",
       "    .dataframe thead th {\n",
       "        text-align: right;\n",
       "    }\n",
       "</style>\n",
       "<table border=\"1\" class=\"dataframe\">\n",
       "  <thead>\n",
       "    <tr style=\"text-align: right;\">\n",
       "      <th></th>\n",
       "      <th>Year</th>\n",
       "      <th>Aruba</th>\n",
       "      <th>Africa Eastern and Southern</th>\n",
       "      <th>Afghanistan</th>\n",
       "      <th>Africa Western and Central</th>\n",
       "      <th>Angola</th>\n",
       "      <th>Albania</th>\n",
       "      <th>Andorra</th>\n",
       "      <th>Arab World</th>\n",
       "      <th>United Arab Emirates</th>\n",
       "      <th>...</th>\n",
       "      <th>Virgin Islands (U.S.)</th>\n",
       "      <th>Vietnam</th>\n",
       "      <th>Vanuatu</th>\n",
       "      <th>World</th>\n",
       "      <th>Samoa</th>\n",
       "      <th>Kosovo</th>\n",
       "      <th>Yemen, Rep.</th>\n",
       "      <th>South Africa</th>\n",
       "      <th>Zambia</th>\n",
       "      <th>Zimbabwe</th>\n",
       "    </tr>\n",
       "  </thead>\n",
       "  <tbody>\n",
       "    <tr>\n",
       "      <th>0</th>\n",
       "      <td>1960</td>\n",
       "      <td>4.820</td>\n",
       "      <td>6.723308</td>\n",
       "      <td>7.45</td>\n",
       "      <td>6.439002</td>\n",
       "      <td>6.708</td>\n",
       "      <td>6.489</td>\n",
       "      <td>NaN</td>\n",
       "      <td>6.977256</td>\n",
       "      <td>6.929</td>\n",
       "      <td>...</td>\n",
       "      <td>5.615</td>\n",
       "      <td>6.348</td>\n",
       "      <td>7.197</td>\n",
       "      <td>4.979299</td>\n",
       "      <td>7.651</td>\n",
       "      <td>NaN</td>\n",
       "      <td>7.938</td>\n",
       "      <td>6.041</td>\n",
       "      <td>7.115</td>\n",
       "      <td>7.158</td>\n",
       "    </tr>\n",
       "    <tr>\n",
       "      <th>1</th>\n",
       "      <td>1961</td>\n",
       "      <td>4.655</td>\n",
       "      <td>6.738651</td>\n",
       "      <td>7.45</td>\n",
       "      <td>6.455523</td>\n",
       "      <td>6.790</td>\n",
       "      <td>6.401</td>\n",
       "      <td>NaN</td>\n",
       "      <td>6.998635</td>\n",
       "      <td>6.910</td>\n",
       "      <td>...</td>\n",
       "      <td>5.651</td>\n",
       "      <td>6.392</td>\n",
       "      <td>7.120</td>\n",
       "      <td>5.003564</td>\n",
       "      <td>7.645</td>\n",
       "      <td>NaN</td>\n",
       "      <td>7.962</td>\n",
       "      <td>6.028</td>\n",
       "      <td>7.169</td>\n",
       "      <td>7.215</td>\n",
       "    </tr>\n",
       "    <tr>\n",
       "      <th>2</th>\n",
       "      <td>1962</td>\n",
       "      <td>4.471</td>\n",
       "      <td>6.752818</td>\n",
       "      <td>7.45</td>\n",
       "      <td>6.471399</td>\n",
       "      <td>6.872</td>\n",
       "      <td>6.282</td>\n",
       "      <td>NaN</td>\n",
       "      <td>7.018725</td>\n",
       "      <td>6.892</td>\n",
       "      <td>...</td>\n",
       "      <td>5.679</td>\n",
       "      <td>6.425</td>\n",
       "      <td>7.033</td>\n",
       "      <td>5.025367</td>\n",
       "      <td>7.630</td>\n",
       "      <td>NaN</td>\n",
       "      <td>7.991</td>\n",
       "      <td>6.010</td>\n",
       "      <td>7.214</td>\n",
       "      <td>7.267</td>\n",
       "    </tr>\n",
       "    <tr>\n",
       "      <th>3</th>\n",
       "      <td>1963</td>\n",
       "      <td>4.271</td>\n",
       "      <td>6.765400</td>\n",
       "      <td>7.45</td>\n",
       "      <td>6.487246</td>\n",
       "      <td>6.954</td>\n",
       "      <td>6.133</td>\n",
       "      <td>NaN</td>\n",
       "      <td>7.035036</td>\n",
       "      <td>6.875</td>\n",
       "      <td>...</td>\n",
       "      <td>5.696</td>\n",
       "      <td>6.448</td>\n",
       "      <td>6.938</td>\n",
       "      <td>5.045551</td>\n",
       "      <td>7.604</td>\n",
       "      <td>NaN</td>\n",
       "      <td>8.026</td>\n",
       "      <td>5.986</td>\n",
       "      <td>7.249</td>\n",
       "      <td>7.311</td>\n",
       "    </tr>\n",
       "    <tr>\n",
       "      <th>4</th>\n",
       "      <td>1964</td>\n",
       "      <td>4.059</td>\n",
       "      <td>6.775406</td>\n",
       "      <td>7.45</td>\n",
       "      <td>6.502619</td>\n",
       "      <td>7.036</td>\n",
       "      <td>5.960</td>\n",
       "      <td>NaN</td>\n",
       "      <td>7.045690</td>\n",
       "      <td>6.857</td>\n",
       "      <td>...</td>\n",
       "      <td>5.698</td>\n",
       "      <td>6.464</td>\n",
       "      <td>6.836</td>\n",
       "      <td>5.056470</td>\n",
       "      <td>7.567</td>\n",
       "      <td>NaN</td>\n",
       "      <td>8.067</td>\n",
       "      <td>5.956</td>\n",
       "      <td>7.274</td>\n",
       "      <td>7.347</td>\n",
       "    </tr>\n",
       "  </tbody>\n",
       "</table>\n",
       "<p>5 rows × 267 columns</p>\n",
       "</div>"
      ],
      "text/plain": [
       "   Year  Aruba  Africa Eastern and Southern  Afghanistan  \\\n",
       "0  1960  4.820                     6.723308         7.45   \n",
       "1  1961  4.655                     6.738651         7.45   \n",
       "2  1962  4.471                     6.752818         7.45   \n",
       "3  1963  4.271                     6.765400         7.45   \n",
       "4  1964  4.059                     6.775406         7.45   \n",
       "\n",
       "   Africa Western and Central  Angola  Albania  Andorra  Arab World  \\\n",
       "0                    6.439002   6.708    6.489      NaN    6.977256   \n",
       "1                    6.455523   6.790    6.401      NaN    6.998635   \n",
       "2                    6.471399   6.872    6.282      NaN    7.018725   \n",
       "3                    6.487246   6.954    6.133      NaN    7.035036   \n",
       "4                    6.502619   7.036    5.960      NaN    7.045690   \n",
       "\n",
       "   United Arab Emirates  ...  Virgin Islands (U.S.)  Vietnam  Vanuatu  \\\n",
       "0                 6.929  ...                  5.615    6.348    7.197   \n",
       "1                 6.910  ...                  5.651    6.392    7.120   \n",
       "2                 6.892  ...                  5.679    6.425    7.033   \n",
       "3                 6.875  ...                  5.696    6.448    6.938   \n",
       "4                 6.857  ...                  5.698    6.464    6.836   \n",
       "\n",
       "      World  Samoa  Kosovo  Yemen, Rep.  South Africa  Zambia  Zimbabwe  \n",
       "0  4.979299  7.651     NaN        7.938         6.041   7.115     7.158  \n",
       "1  5.003564  7.645     NaN        7.962         6.028   7.169     7.215  \n",
       "2  5.025367  7.630     NaN        7.991         6.010   7.214     7.267  \n",
       "3  5.045551  7.604     NaN        8.026         5.986   7.249     7.311  \n",
       "4  5.056470  7.567     NaN        8.067         5.956   7.274     7.347  \n",
       "\n",
       "[5 rows x 267 columns]"
      ]
     },
     "execution_count": 105,
     "metadata": {},
     "output_type": "execute_result"
    },
    {
     "data": {
      "text/plain": [
       "(61, 267)"
      ]
     },
     "execution_count": 105,
     "metadata": {},
     "output_type": "execute_result"
    }
   ],
   "source": [
    "fertility= pd.read_csv(\"fertility.csv\")\n",
    "fertility.head()\n",
    "fertility.shape"
   ]
  },
  {
   "cell_type": "code",
   "execution_count": 106,
   "id": "f3bfacbe",
   "metadata": {},
   "outputs": [
    {
     "data": {
      "text/plain": [
       "array([1960, 1961, 1962, 1963, 1964, 1965, 1966, 1967, 1968, 1969, 1970,\n",
       "       1971, 1972, 1973, 1974, 1975, 1976, 1977, 1978, 1979, 1980, 1981,\n",
       "       1982, 1983, 1984, 1985, 1986, 1987, 1988, 1989, 1990, 1991, 1992,\n",
       "       1993, 1994, 1995, 1996, 1997, 1998, 1999, 2000, 2001, 2002, 2003,\n",
       "       2004, 2005, 2006, 2007, 2008, 2009, 2010, 2011, 2012, 2013, 2014,\n",
       "       2015, 2016, 2017, 2018, 2019, 2020], dtype=int64)"
      ]
     },
     "execution_count": 106,
     "metadata": {},
     "output_type": "execute_result"
    }
   ],
   "source": [
    "fertility.Year.unique()"
   ]
  },
  {
   "cell_type": "code",
   "execution_count": 107,
   "id": "f3e86db2",
   "metadata": {
    "scrolled": true
   },
   "outputs": [
    {
     "data": {
      "text/html": [
       "<div>\n",
       "<style scoped>\n",
       "    .dataframe tbody tr th:only-of-type {\n",
       "        vertical-align: middle;\n",
       "    }\n",
       "\n",
       "    .dataframe tbody tr th {\n",
       "        vertical-align: top;\n",
       "    }\n",
       "\n",
       "    .dataframe thead th {\n",
       "        text-align: right;\n",
       "    }\n",
       "</style>\n",
       "<table border=\"1\" class=\"dataframe\">\n",
       "  <thead>\n",
       "    <tr style=\"text-align: right;\">\n",
       "      <th></th>\n",
       "      <th>Aruba</th>\n",
       "      <th>Africa Eastern and Southern</th>\n",
       "      <th>Afghanistan</th>\n",
       "      <th>Africa Western and Central</th>\n",
       "      <th>Angola</th>\n",
       "      <th>Albania</th>\n",
       "      <th>Andorra</th>\n",
       "      <th>Arab World</th>\n",
       "      <th>United Arab Emirates</th>\n",
       "      <th>Argentina</th>\n",
       "      <th>...</th>\n",
       "      <th>Virgin Islands (U.S.)</th>\n",
       "      <th>Vietnam</th>\n",
       "      <th>Vanuatu</th>\n",
       "      <th>World</th>\n",
       "      <th>Samoa</th>\n",
       "      <th>Kosovo</th>\n",
       "      <th>Yemen, Rep.</th>\n",
       "      <th>South Africa</th>\n",
       "      <th>Zambia</th>\n",
       "      <th>Zimbabwe</th>\n",
       "    </tr>\n",
       "    <tr>\n",
       "      <th>Year</th>\n",
       "      <th></th>\n",
       "      <th></th>\n",
       "      <th></th>\n",
       "      <th></th>\n",
       "      <th></th>\n",
       "      <th></th>\n",
       "      <th></th>\n",
       "      <th></th>\n",
       "      <th></th>\n",
       "      <th></th>\n",
       "      <th></th>\n",
       "      <th></th>\n",
       "      <th></th>\n",
       "      <th></th>\n",
       "      <th></th>\n",
       "      <th></th>\n",
       "      <th></th>\n",
       "      <th></th>\n",
       "      <th></th>\n",
       "      <th></th>\n",
       "      <th></th>\n",
       "    </tr>\n",
       "  </thead>\n",
       "  <tbody>\n",
       "    <tr>\n",
       "      <th>1960</th>\n",
       "      <td>4.820</td>\n",
       "      <td>6.723308</td>\n",
       "      <td>7.45</td>\n",
       "      <td>6.439002</td>\n",
       "      <td>6.708</td>\n",
       "      <td>6.489</td>\n",
       "      <td>NaN</td>\n",
       "      <td>6.977256</td>\n",
       "      <td>6.929</td>\n",
       "      <td>3.109</td>\n",
       "      <td>...</td>\n",
       "      <td>5.615</td>\n",
       "      <td>6.348</td>\n",
       "      <td>7.197</td>\n",
       "      <td>4.979299</td>\n",
       "      <td>7.651</td>\n",
       "      <td>NaN</td>\n",
       "      <td>7.938</td>\n",
       "      <td>6.041</td>\n",
       "      <td>7.115</td>\n",
       "      <td>7.158</td>\n",
       "    </tr>\n",
       "    <tr>\n",
       "      <th>1961</th>\n",
       "      <td>4.655</td>\n",
       "      <td>6.738651</td>\n",
       "      <td>7.45</td>\n",
       "      <td>6.455523</td>\n",
       "      <td>6.790</td>\n",
       "      <td>6.401</td>\n",
       "      <td>NaN</td>\n",
       "      <td>6.998635</td>\n",
       "      <td>6.910</td>\n",
       "      <td>3.100</td>\n",
       "      <td>...</td>\n",
       "      <td>5.651</td>\n",
       "      <td>6.392</td>\n",
       "      <td>7.120</td>\n",
       "      <td>5.003564</td>\n",
       "      <td>7.645</td>\n",
       "      <td>NaN</td>\n",
       "      <td>7.962</td>\n",
       "      <td>6.028</td>\n",
       "      <td>7.169</td>\n",
       "      <td>7.215</td>\n",
       "    </tr>\n",
       "    <tr>\n",
       "      <th>1962</th>\n",
       "      <td>4.471</td>\n",
       "      <td>6.752818</td>\n",
       "      <td>7.45</td>\n",
       "      <td>6.471399</td>\n",
       "      <td>6.872</td>\n",
       "      <td>6.282</td>\n",
       "      <td>NaN</td>\n",
       "      <td>7.018725</td>\n",
       "      <td>6.892</td>\n",
       "      <td>3.090</td>\n",
       "      <td>...</td>\n",
       "      <td>5.679</td>\n",
       "      <td>6.425</td>\n",
       "      <td>7.033</td>\n",
       "      <td>5.025367</td>\n",
       "      <td>7.630</td>\n",
       "      <td>NaN</td>\n",
       "      <td>7.991</td>\n",
       "      <td>6.010</td>\n",
       "      <td>7.214</td>\n",
       "      <td>7.267</td>\n",
       "    </tr>\n",
       "    <tr>\n",
       "      <th>1963</th>\n",
       "      <td>4.271</td>\n",
       "      <td>6.765400</td>\n",
       "      <td>7.45</td>\n",
       "      <td>6.487246</td>\n",
       "      <td>6.954</td>\n",
       "      <td>6.133</td>\n",
       "      <td>NaN</td>\n",
       "      <td>7.035036</td>\n",
       "      <td>6.875</td>\n",
       "      <td>3.079</td>\n",
       "      <td>...</td>\n",
       "      <td>5.696</td>\n",
       "      <td>6.448</td>\n",
       "      <td>6.938</td>\n",
       "      <td>5.045551</td>\n",
       "      <td>7.604</td>\n",
       "      <td>NaN</td>\n",
       "      <td>8.026</td>\n",
       "      <td>5.986</td>\n",
       "      <td>7.249</td>\n",
       "      <td>7.311</td>\n",
       "    </tr>\n",
       "    <tr>\n",
       "      <th>1964</th>\n",
       "      <td>4.059</td>\n",
       "      <td>6.775406</td>\n",
       "      <td>7.45</td>\n",
       "      <td>6.502619</td>\n",
       "      <td>7.036</td>\n",
       "      <td>5.960</td>\n",
       "      <td>NaN</td>\n",
       "      <td>7.045690</td>\n",
       "      <td>6.857</td>\n",
       "      <td>3.068</td>\n",
       "      <td>...</td>\n",
       "      <td>5.698</td>\n",
       "      <td>6.464</td>\n",
       "      <td>6.836</td>\n",
       "      <td>5.056470</td>\n",
       "      <td>7.567</td>\n",
       "      <td>NaN</td>\n",
       "      <td>8.067</td>\n",
       "      <td>5.956</td>\n",
       "      <td>7.274</td>\n",
       "      <td>7.347</td>\n",
       "    </tr>\n",
       "  </tbody>\n",
       "</table>\n",
       "<p>5 rows × 266 columns</p>\n",
       "</div>"
      ],
      "text/plain": [
       "      Aruba  Africa Eastern and Southern  Afghanistan  \\\n",
       "Year                                                    \n",
       "1960  4.820                     6.723308         7.45   \n",
       "1961  4.655                     6.738651         7.45   \n",
       "1962  4.471                     6.752818         7.45   \n",
       "1963  4.271                     6.765400         7.45   \n",
       "1964  4.059                     6.775406         7.45   \n",
       "\n",
       "      Africa Western and Central  Angola  Albania  Andorra  Arab World  \\\n",
       "Year                                                                     \n",
       "1960                    6.439002   6.708    6.489      NaN    6.977256   \n",
       "1961                    6.455523   6.790    6.401      NaN    6.998635   \n",
       "1962                    6.471399   6.872    6.282      NaN    7.018725   \n",
       "1963                    6.487246   6.954    6.133      NaN    7.035036   \n",
       "1964                    6.502619   7.036    5.960      NaN    7.045690   \n",
       "\n",
       "      United Arab Emirates  Argentina  ...  Virgin Islands (U.S.)  Vietnam  \\\n",
       "Year                                   ...                                   \n",
       "1960                 6.929      3.109  ...                  5.615    6.348   \n",
       "1961                 6.910      3.100  ...                  5.651    6.392   \n",
       "1962                 6.892      3.090  ...                  5.679    6.425   \n",
       "1963                 6.875      3.079  ...                  5.696    6.448   \n",
       "1964                 6.857      3.068  ...                  5.698    6.464   \n",
       "\n",
       "      Vanuatu     World  Samoa  Kosovo  Yemen, Rep.  South Africa  Zambia  \\\n",
       "Year                                                                        \n",
       "1960    7.197  4.979299  7.651     NaN        7.938         6.041   7.115   \n",
       "1961    7.120  5.003564  7.645     NaN        7.962         6.028   7.169   \n",
       "1962    7.033  5.025367  7.630     NaN        7.991         6.010   7.214   \n",
       "1963    6.938  5.045551  7.604     NaN        8.026         5.986   7.249   \n",
       "1964    6.836  5.056470  7.567     NaN        8.067         5.956   7.274   \n",
       "\n",
       "      Zimbabwe  \n",
       "Year            \n",
       "1960     7.158  \n",
       "1961     7.215  \n",
       "1962     7.267  \n",
       "1963     7.311  \n",
       "1964     7.347  \n",
       "\n",
       "[5 rows x 266 columns]"
      ]
     },
     "execution_count": 107,
     "metadata": {},
     "output_type": "execute_result"
    },
    {
     "data": {
      "text/html": [
       "<div>\n",
       "<style scoped>\n",
       "    .dataframe tbody tr th:only-of-type {\n",
       "        vertical-align: middle;\n",
       "    }\n",
       "\n",
       "    .dataframe tbody tr th {\n",
       "        vertical-align: top;\n",
       "    }\n",
       "\n",
       "    .dataframe thead th {\n",
       "        text-align: right;\n",
       "    }\n",
       "</style>\n",
       "<table border=\"1\" class=\"dataframe\">\n",
       "  <thead>\n",
       "    <tr style=\"text-align: right;\">\n",
       "      <th></th>\n",
       "      <th>Aruba</th>\n",
       "      <th>Africa Eastern and Southern</th>\n",
       "      <th>Afghanistan</th>\n",
       "      <th>Africa Western and Central</th>\n",
       "      <th>Angola</th>\n",
       "      <th>Albania</th>\n",
       "      <th>Andorra</th>\n",
       "      <th>Arab World</th>\n",
       "      <th>United Arab Emirates</th>\n",
       "      <th>Argentina</th>\n",
       "      <th>...</th>\n",
       "      <th>Virgin Islands (U.S.)</th>\n",
       "      <th>Vietnam</th>\n",
       "      <th>Vanuatu</th>\n",
       "      <th>World</th>\n",
       "      <th>Samoa</th>\n",
       "      <th>Kosovo</th>\n",
       "      <th>Yemen, Rep.</th>\n",
       "      <th>South Africa</th>\n",
       "      <th>Zambia</th>\n",
       "      <th>Zimbabwe</th>\n",
       "    </tr>\n",
       "    <tr>\n",
       "      <th>Year</th>\n",
       "      <th></th>\n",
       "      <th></th>\n",
       "      <th></th>\n",
       "      <th></th>\n",
       "      <th></th>\n",
       "      <th></th>\n",
       "      <th></th>\n",
       "      <th></th>\n",
       "      <th></th>\n",
       "      <th></th>\n",
       "      <th></th>\n",
       "      <th></th>\n",
       "      <th></th>\n",
       "      <th></th>\n",
       "      <th></th>\n",
       "      <th></th>\n",
       "      <th></th>\n",
       "      <th></th>\n",
       "      <th></th>\n",
       "      <th></th>\n",
       "      <th></th>\n",
       "    </tr>\n",
       "  </thead>\n",
       "  <tbody>\n",
       "    <tr>\n",
       "      <th>2016</th>\n",
       "      <td>1.872</td>\n",
       "      <td>4.569675</td>\n",
       "      <td>4.800</td>\n",
       "      <td>5.251674</td>\n",
       "      <td>5.686</td>\n",
       "      <td>1.659</td>\n",
       "      <td>NaN</td>\n",
       "      <td>3.322437</td>\n",
       "      <td>1.491</td>\n",
       "      <td>2.288</td>\n",
       "      <td>...</td>\n",
       "      <td>2.09</td>\n",
       "      <td>2.030</td>\n",
       "      <td>3.859</td>\n",
       "      <td>2.444857</td>\n",
       "      <td>3.976</td>\n",
       "      <td>2.06</td>\n",
       "      <td>3.994</td>\n",
       "      <td>2.457</td>\n",
       "      <td>4.814</td>\n",
       "      <td>3.804</td>\n",
       "    </tr>\n",
       "    <tr>\n",
       "      <th>2017</th>\n",
       "      <td>1.886</td>\n",
       "      <td>4.493744</td>\n",
       "      <td>4.633</td>\n",
       "      <td>5.182391</td>\n",
       "      <td>5.600</td>\n",
       "      <td>1.638</td>\n",
       "      <td>NaN</td>\n",
       "      <td>3.276487</td>\n",
       "      <td>1.448</td>\n",
       "      <td>2.275</td>\n",
       "      <td>...</td>\n",
       "      <td>2.08</td>\n",
       "      <td>2.042</td>\n",
       "      <td>3.820</td>\n",
       "      <td>2.427315</td>\n",
       "      <td>3.926</td>\n",
       "      <td>2.02</td>\n",
       "      <td>3.890</td>\n",
       "      <td>2.430</td>\n",
       "      <td>4.718</td>\n",
       "      <td>3.707</td>\n",
       "    </tr>\n",
       "    <tr>\n",
       "      <th>2018</th>\n",
       "      <td>1.896</td>\n",
       "      <td>4.420264</td>\n",
       "      <td>4.473</td>\n",
       "      <td>5.113003</td>\n",
       "      <td>5.519</td>\n",
       "      <td>1.617</td>\n",
       "      <td>NaN</td>\n",
       "      <td>3.231001</td>\n",
       "      <td>1.413</td>\n",
       "      <td>2.261</td>\n",
       "      <td>...</td>\n",
       "      <td>2.06</td>\n",
       "      <td>2.049</td>\n",
       "      <td>3.782</td>\n",
       "      <td>2.414952</td>\n",
       "      <td>3.877</td>\n",
       "      <td>2.00</td>\n",
       "      <td>3.792</td>\n",
       "      <td>2.405</td>\n",
       "      <td>4.633</td>\n",
       "      <td>3.615</td>\n",
       "    </tr>\n",
       "    <tr>\n",
       "      <th>2019</th>\n",
       "      <td>1.901</td>\n",
       "      <td>4.349436</td>\n",
       "      <td>4.321</td>\n",
       "      <td>5.044144</td>\n",
       "      <td>5.442</td>\n",
       "      <td>1.597</td>\n",
       "      <td>NaN</td>\n",
       "      <td>3.187157</td>\n",
       "      <td>1.387</td>\n",
       "      <td>2.247</td>\n",
       "      <td>...</td>\n",
       "      <td>2.05</td>\n",
       "      <td>2.050</td>\n",
       "      <td>3.744</td>\n",
       "      <td>2.401760</td>\n",
       "      <td>3.830</td>\n",
       "      <td>1.97</td>\n",
       "      <td>3.700</td>\n",
       "      <td>2.381</td>\n",
       "      <td>4.559</td>\n",
       "      <td>3.531</td>\n",
       "    </tr>\n",
       "    <tr>\n",
       "      <th>2020</th>\n",
       "      <td>1.901</td>\n",
       "      <td>4.281856</td>\n",
       "      <td>4.176</td>\n",
       "      <td>4.976546</td>\n",
       "      <td>5.371</td>\n",
       "      <td>1.580</td>\n",
       "      <td>NaN</td>\n",
       "      <td>3.145757</td>\n",
       "      <td>1.369</td>\n",
       "      <td>2.233</td>\n",
       "      <td>...</td>\n",
       "      <td>2.03</td>\n",
       "      <td>2.046</td>\n",
       "      <td>3.707</td>\n",
       "      <td>2.387167</td>\n",
       "      <td>3.785</td>\n",
       "      <td>1.95</td>\n",
       "      <td>3.614</td>\n",
       "      <td>2.358</td>\n",
       "      <td>4.496</td>\n",
       "      <td>3.460</td>\n",
       "    </tr>\n",
       "  </tbody>\n",
       "</table>\n",
       "<p>5 rows × 266 columns</p>\n",
       "</div>"
      ],
      "text/plain": [
       "      Aruba  Africa Eastern and Southern  Afghanistan  \\\n",
       "Year                                                    \n",
       "2016  1.872                     4.569675        4.800   \n",
       "2017  1.886                     4.493744        4.633   \n",
       "2018  1.896                     4.420264        4.473   \n",
       "2019  1.901                     4.349436        4.321   \n",
       "2020  1.901                     4.281856        4.176   \n",
       "\n",
       "      Africa Western and Central  Angola  Albania  Andorra  Arab World  \\\n",
       "Year                                                                     \n",
       "2016                    5.251674   5.686    1.659      NaN    3.322437   \n",
       "2017                    5.182391   5.600    1.638      NaN    3.276487   \n",
       "2018                    5.113003   5.519    1.617      NaN    3.231001   \n",
       "2019                    5.044144   5.442    1.597      NaN    3.187157   \n",
       "2020                    4.976546   5.371    1.580      NaN    3.145757   \n",
       "\n",
       "      United Arab Emirates  Argentina  ...  Virgin Islands (U.S.)  Vietnam  \\\n",
       "Year                                   ...                                   \n",
       "2016                 1.491      2.288  ...                   2.09    2.030   \n",
       "2017                 1.448      2.275  ...                   2.08    2.042   \n",
       "2018                 1.413      2.261  ...                   2.06    2.049   \n",
       "2019                 1.387      2.247  ...                   2.05    2.050   \n",
       "2020                 1.369      2.233  ...                   2.03    2.046   \n",
       "\n",
       "      Vanuatu     World  Samoa  Kosovo  Yemen, Rep.  South Africa  Zambia  \\\n",
       "Year                                                                        \n",
       "2016    3.859  2.444857  3.976    2.06        3.994         2.457   4.814   \n",
       "2017    3.820  2.427315  3.926    2.02        3.890         2.430   4.718   \n",
       "2018    3.782  2.414952  3.877    2.00        3.792         2.405   4.633   \n",
       "2019    3.744  2.401760  3.830    1.97        3.700         2.381   4.559   \n",
       "2020    3.707  2.387167  3.785    1.95        3.614         2.358   4.496   \n",
       "\n",
       "      Zimbabwe  \n",
       "Year            \n",
       "2016     3.804  \n",
       "2017     3.707  \n",
       "2018     3.615  \n",
       "2019     3.531  \n",
       "2020     3.460  \n",
       "\n",
       "[5 rows x 266 columns]"
      ]
     },
     "execution_count": 107,
     "metadata": {},
     "output_type": "execute_result"
    }
   ],
   "source": [
    "fertility.set_index(\"Year\", drop=True, inplace=True)\n",
    "fertility.head()\n",
    "fertility.tail()"
   ]
  },
  {
   "cell_type": "code",
   "execution_count": 108,
   "id": "9adda4d1",
   "metadata": {},
   "outputs": [
    {
     "data": {
      "text/plain": [
       "Text(0.5, 0, 'Time')"
      ]
     },
     "execution_count": 108,
     "metadata": {},
     "output_type": "execute_result"
    },
    {
     "data": {
      "text/plain": [
       "Text(0, 0.5, 'Aruba')"
      ]
     },
     "execution_count": 108,
     "metadata": {},
     "output_type": "execute_result"
    },
    {
     "data": {
      "text/plain": [
       "Text(0.5, 1.0, 'Fertility- Aruba')"
      ]
     },
     "execution_count": 108,
     "metadata": {},
     "output_type": "execute_result"
    },
    {
     "data": {
      "text/plain": [
       "<AxesSubplot:title={'center':'Fertility- Aruba'}, xlabel='Year', ylabel='Aruba'>"
      ]
     },
     "execution_count": 108,
     "metadata": {},
     "output_type": "execute_result"
    },
    {
     "data": {
      "image/png": "[encoded data removed]",
      "text/plain": [
       "<Figure size 432x288 with 1 Axes>"
      ]
     },
     "metadata": {
      "needs_background": "light"
     },
     "output_type": "display_data"
    }
   ],
   "source": [
    "plt.xlabel('Time')\n",
    "plt.ylabel('Aruba')\n",
    "plt.title('Fertility- Aruba')\n",
    "fertility['Aruba'].plot(color ='orange')"
   ]
  },
  {
   "cell_type": "code",
   "execution_count": 109,
   "id": "47cb12bf",
   "metadata": {},
   "outputs": [
    {
     "data": {
      "text/plain": [
       "Text(0.5, 0, 'Order')"
      ]
     },
     "execution_count": 109,
     "metadata": {},
     "output_type": "execute_result"
    },
    {
     "data": {
      "text/plain": [
       "Text(0, 0.5, 'Frequency')"
      ]
     },
     "execution_count": 109,
     "metadata": {},
     "output_type": "execute_result"
    },
    {
     "data": {
      "text/plain": [
       "Text(0.5, 1.0, 'Cases Histogram')"
      ]
     },
     "execution_count": 109,
     "metadata": {},
     "output_type": "execute_result"
    },
    {
     "data": {
      "text/plain": [
       "<AxesSubplot:title={'center':'Cases Histogram'}, xlabel='Year', ylabel='Frequency'>"
      ]
     },
     "execution_count": 109,
     "metadata": {},
     "output_type": "execute_result"
    },
    {
     "data": {
      "image/png": "[encoded data removed]",
      "text/plain": [
       "<Figure size 432x288 with 1 Axes>"
      ]
     },
     "metadata": {
      "needs_background": "light"
     },
     "output_type": "display_data"
    }
   ],
   "source": [
    "plt.xlabel('Order')\n",
    "plt.ylabel('Frequency')\n",
    "plt.title('Cases Histogram')\n",
    "fertility['United States'].plot()"
   ]
  },
  {
   "cell_type": "markdown",
   "id": "7352ddaa",
   "metadata": {},
   "source": [
    "## Histogram"
   ]
  },
  {
   "cell_type": "code",
   "execution_count": 110,
   "id": "6e0cdd56",
   "metadata": {},
   "outputs": [
    {
     "data": {
      "text/plain": [
       "<AxesSubplot:>"
      ]
     },
     "execution_count": 110,
     "metadata": {},
     "output_type": "execute_result"
    },
    {
     "data": {
      "image/png": "[encoded data removed]",
      "text/plain": [
       "<Figure size 432x288 with 1 Axes>"
      ]
     },
     "metadata": {
      "needs_background": "light"
     },
     "output_type": "display_data"
    }
   ],
   "source": [
    "fertility['United States'].hist(bins=8)"
   ]
  },
  {
   "cell_type": "code",
   "execution_count": 111,
   "id": "2c69af4d",
   "metadata": {},
   "outputs": [
    {
     "data": {
      "text/plain": [
       "2.1134016393442616"
      ]
     },
     "execution_count": 111,
     "metadata": {},
     "output_type": "execute_result"
    }
   ],
   "source": [
    "fertility['United States'].mean()"
   ]
  },
  {
   "cell_type": "code",
   "execution_count": 112,
   "id": "53c3f208",
   "metadata": {},
   "outputs": [
    {
     "data": {
      "text/plain": [
       "<AxesSubplot:>"
      ]
     },
     "execution_count": 112,
     "metadata": {},
     "output_type": "execute_result"
    },
    {
     "data": {
      "image/png": "[encoded data removed]",
      "text/plain": [
       "<Figure size 432x288 with 1 Axes>"
      ]
     },
     "metadata": {
      "needs_background": "light"
     },
     "output_type": "display_data"
    }
   ],
   "source": [
    "fertility['Aruba'].hist(bins=8)"
   ]
  },
  {
   "cell_type": "code",
   "execution_count": 113,
   "id": "176f74f7",
   "metadata": {},
   "outputs": [
    {
     "data": {
      "text/plain": [
       "2.420770491803278"
      ]
     },
     "execution_count": 113,
     "metadata": {},
     "output_type": "execute_result"
    }
   ],
   "source": [
    "fertility['Aruba'].mean()"
   ]
  },
  {
   "cell_type": "markdown",
   "id": "6f4eef5e",
   "metadata": {},
   "source": [
    "## Trend"
   ]
  },
  {
   "cell_type": "code",
   "execution_count": 116,
   "id": "68db6154",
   "metadata": {},
   "outputs": [
    {
     "data": {
      "text/plain": [
       "<matplotlib.collections.PathCollection at 0x1df39dacc10>"
      ]
     },
     "execution_count": 116,
     "metadata": {},
     "output_type": "execute_result"
    },
    {
     "data": {
      "image/png": "[encoded data removed]",
      "text/plain": [
       "<Figure size 432x288 with 1 Axes>"
      ]
     },
     "metadata": {
      "needs_background": "light"
     },
     "output_type": "display_data"
    }
   ],
   "source": [
    "plt.scatter(fertility['Aruba'],fertility['United States'])"
   ]
  },
  {
   "cell_type": "markdown",
   "id": "85f7938f",
   "metadata": {},
   "source": [
    "### There does not seem to be strong correlation between the fertility of Aruba and the United States over the years."
   ]
  },
  {
   "cell_type": "code",
   "execution_count": 119,
   "id": "0485289d",
   "metadata": {},
   "outputs": [
    {
     "data": {
      "text/plain": [
       "Text(0.5, 0, 'Aruba')"
      ]
     },
     "execution_count": 119,
     "metadata": {},
     "output_type": "execute_result"
    },
    {
     "data": {
      "text/plain": [
       "Text(0, 0.5, 'United States')"
      ]
     },
     "execution_count": 119,
     "metadata": {},
     "output_type": "execute_result"
    },
    {
     "data": {
      "text/plain": [
       "Text(0.5, 1.0, 'Comparison between Aruba and United States')"
      ]
     },
     "execution_count": 119,
     "metadata": {},
     "output_type": "execute_result"
    },
    {
     "data": {
      "image/png": "[encoded data removed]",
      "text/plain": [
       "<Figure size 432x288 with 1 Axes>"
      ]
     },
     "metadata": {
      "needs_background": "light"
     },
     "output_type": "display_data"
    }
   ],
   "source": [
    "n, bins, patches = plt.hist(x= fertility[['Aruba']], bins='auto', color='#0504aa', alpha=0.7, rwidth=0.85)\n",
    "plt.grid(axis='y', alpha=0.75)\n",
    "plt.xlabel('Aruba')\n",
    "plt.ylabel('United States')\n",
    "plt.grid(axis='y', alpha=0.75)\n",
    "\n",
    "plt.title('Comparison between Aruba and United States')\n",
    "maxfreq = n.max()"
   ]
  },
  {
   "cell_type": "code",
   "execution_count": 120,
   "id": "523fcee7",
   "metadata": {},
   "outputs": [
    {
     "data": {
      "text/plain": [
       "<AxesSubplot:title={'center':'Aruba vs. U.S'}, ylabel='Density'>"
      ]
     },
     "execution_count": 120,
     "metadata": {},
     "output_type": "execute_result"
    },
    {
     "data": {
      "text/plain": [
       "<AxesSubplot:title={'center':'Aruba vs. U.S'}, ylabel='Frequency'>"
      ]
     },
     "execution_count": 120,
     "metadata": {},
     "output_type": "execute_result"
    },
    {
     "data": {
      "text/plain": [
       "Text(0, 0.5, 'Probability')"
      ]
     },
     "execution_count": 120,
     "metadata": {},
     "output_type": "execute_result"
    },
    {
     "data": {
      "image/png": "[encoded data removed]",
      "text/plain": [
       "<Figure size 432x288 with 1 Axes>"
      ]
     },
     "metadata": {
      "needs_background": "light"
     },
     "output_type": "display_data"
    }
   ],
   "source": [
    "fig, ax = plt.subplots()\n",
    "fertility[['Aruba']].plot.kde(ax=ax, legend=False, title='Aruba vs. U.S')\n",
    "fertility[['Aruba']].plot.hist(density=True, ax=ax)\n",
    "ax.set_ylabel('Probability')\n",
    "ax.grid(axis='y')\n",
    "ax.set_facecolor('#d8dcd6')"
   ]
  },
  {
   "cell_type": "code",
   "execution_count": 122,
   "id": "73370fd2",
   "metadata": {},
   "outputs": [
    {
     "data": {
      "text/plain": [
       "<AxesSubplot:title={'center':'Histogram: A vs. B'}, ylabel='Density'>"
      ]
     },
     "execution_count": 122,
     "metadata": {},
     "output_type": "execute_result"
    },
    {
     "data": {
      "text/plain": [
       "<AxesSubplot:title={'center':'Histogram: A vs. B'}, ylabel='Frequency'>"
      ]
     },
     "execution_count": 122,
     "metadata": {},
     "output_type": "execute_result"
    },
    {
     "data": {
      "text/plain": [
       "Text(0, 0.5, 'Probability')"
      ]
     },
     "execution_count": 122,
     "metadata": {},
     "output_type": "execute_result"
    },
    {
     "data": {
      "image/png": "[encoded data removed]",
      "text/plain": [
       "<Figure size 432x288 with 1 Axes>"
      ]
     },
     "metadata": {
      "needs_background": "light"
     },
     "output_type": "display_data"
    }
   ],
   "source": [
    "fig, ax = plt.subplots()\n",
    "fertility[['United States']].plot.kde(ax=ax, legend=False, title='Histogram: A vs. B')\n",
    "fertility[['United States']].plot.hist(density=True, ax=ax)\n",
    "ax.set_ylabel('Probability')\n",
    "ax.grid(axis='y')\n",
    "ax.set_facecolor('#d8dcd6')"
   ]
  },
  {
   "cell_type": "markdown",
   "id": "1d0b5278",
   "metadata": {},
   "source": [
    "### Probability Plot"
   ]
  },
  {
   "cell_type": "code",
   "execution_count": 124,
   "id": "23758725",
   "metadata": {},
   "outputs": [
    {
     "data": {
      "image/png": "[encoded data removed]",
      "text/plain": [
       "<Figure size 432x288 with 1 Axes>"
      ]
     },
     "metadata": {
      "needs_background": "light"
     },
     "output_type": "display_data"
    }
   ],
   "source": [
    "fig = plt.figure()\n",
    "res = stats.probplot(fertility['Aruba'], plot=plt)"
   ]
  },
  {
   "cell_type": "code",
   "execution_count": 126,
   "id": "bd24edb6",
   "metadata": {},
   "outputs": [
    {
     "name": "stdout",
     "output_type": "stream",
     "text": [
      "A-D statistic: 6.602919444623012\n",
      "Critical values: [0.544 0.62  0.743 0.867 1.031]\n",
      "Significance levels: [15.  10.   5.   2.5  1. ]\n"
     ]
    }
   ],
   "source": [
    "from scipy.stats import anderson\n",
    "\n",
    "result=(anderson(fertility['United States'], dist='norm'))\n",
    "print(f\"A-D statistic: {result[0]}\")\n",
    "print(f\"Critical values: {result[1]}\")\n",
    "print(f\"Significance levels: {result[2]}\")"
   ]
  },
  {
   "cell_type": "markdown",
   "id": "83aeae1e",
   "metadata": {},
   "source": [
    "#### Fail to reject the null hypothesis there is not sufficient evidence to say that it is not normally distributed."
   ]
  },
  {
   "cell_type": "code",
   "execution_count": 127,
   "id": "d6e40c86",
   "metadata": {},
   "outputs": [
    {
     "name": "stdout",
     "output_type": "stream",
     "text": [
      "S-W statistic: 0.7091410160064697\n",
      "p-value: 1.0833629549011903e-09\n"
     ]
    }
   ],
   "source": [
    "from scipy.stats import shapiro\n",
    "\n",
    "result = (shapiro(fertility['United States']))\n",
    "\n",
    "print(f\"S-W statistic: {result[0]}\")\n",
    "print(f\"p-value: {result[1]}\")"
   ]
  },
  {
   "cell_type": "markdown",
   "id": "afeded5a",
   "metadata": {},
   "source": [
    "#### The p value is greater than 0.05, fail to reject not significantly different. "
   ]
  },
  {
   "cell_type": "markdown",
   "id": "d82c8d84",
   "metadata": {},
   "source": [
    "### Correlation "
   ]
  },
  {
   "cell_type": "code",
   "execution_count": 128,
   "id": "27dc9d7a",
   "metadata": {},
   "outputs": [
    {
     "name": "stderr",
     "output_type": "stream",
     "text": [
      "C:\\Users\\josel\\AppData\\Local\\Temp/ipykernel_10284/4160306222.py:1: FutureWarning: this method is deprecated in favour of `Styler.format(precision=..)`\n",
      "  fertility[['Aruba','United States']].corr().style.background_gradient(cmap='coolwarm').set_precision(2)\n"
     ]
    },
    {
     "data": {
      "text/html": [
       "<style type=\"text/css\">\n",
       "#T_302cf_row0_col0, #T_302cf_row1_col1 {\n",
       "  background-color: #b40426;\n",
       "  color: #f1f1f1;\n",
       "}\n",
       "#T_302cf_row0_col1, #T_302cf_row1_col0 {\n",
       "  background-color: #3b4cc0;\n",
       "  color: #f1f1f1;\n",
       "}\n",
       "</style>\n",
       "<table id=\"T_302cf_\">\n",
       "  <thead>\n",
       "    <tr>\n",
       "      <th class=\"blank level0\" >&nbsp;</th>\n",
       "      <th class=\"col_heading level0 col0\" >Aruba</th>\n",
       "      <th class=\"col_heading level0 col1\" >United States</th>\n",
       "    </tr>\n",
       "  </thead>\n",
       "  <tbody>\n",
       "    <tr>\n",
       "      <th id=\"T_302cf_level0_row0\" class=\"row_heading level0 row0\" >Aruba</th>\n",
       "      <td id=\"T_302cf_row0_col0\" class=\"data row0 col0\" >1.00</td>\n",
       "      <td id=\"T_302cf_row0_col1\" class=\"data row0 col1\" >0.89</td>\n",
       "    </tr>\n",
       "    <tr>\n",
       "      <th id=\"T_302cf_level0_row1\" class=\"row_heading level0 row1\" >United States</th>\n",
       "      <td id=\"T_302cf_row1_col0\" class=\"data row1 col0\" >0.89</td>\n",
       "      <td id=\"T_302cf_row1_col1\" class=\"data row1 col1\" >1.00</td>\n",
       "    </tr>\n",
       "  </tbody>\n",
       "</table>\n"
      ],
      "text/plain": [
       "<pandas.io.formats.style.Styler at 0x1df3a23d220>"
      ]
     },
     "execution_count": 128,
     "metadata": {},
     "output_type": "execute_result"
    }
   ],
   "source": [
    "fertility[['Aruba','United States']].corr().style.background_gradient(cmap='coolwarm').set_precision(2)"
   ]
  },
  {
   "cell_type": "markdown",
   "id": "bd2e667a",
   "metadata": {},
   "source": [
    "#### Both have high correlation."
   ]
  },
  {
   "cell_type": "code",
   "execution_count": null,
   "id": "eb9082e1",
   "metadata": {},
   "outputs": [],
   "source": []
  }
 ],
 "metadata": {
  "kernelspec": {
   "display_name": "Python 3 (ipykernel)",
   "language": "python",
   "name": "python3"
  },
  "language_info": {
   "codemirror_mode": {
    "name": "ipython",
    "version": 3
   },
   "file_extension": ".py",
   "mimetype": "text/x-python",
   "name": "python",
   "nbconvert_exporter": "python",
   "pygments_lexer": "ipython3",
   "version": "3.9.7"
  }
 },
 "nbformat": 4,
 "nbformat_minor": 5
}
